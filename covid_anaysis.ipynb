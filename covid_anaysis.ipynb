{
 "cells": [
  {
   "cell_type": "code",
   "execution_count": 2,
   "metadata": {},
   "outputs": [],
   "source": [
    "#importing the library for analysis of covid cases from 1999-2022\n",
    "\n",
    "\n",
    "import pandas as pd\n",
    "import numpy as np\n",
    "import seaborn as sns\n",
    "from matplotlib import pyplot as plt\n",
    "\n",
    "data=pd.read_csv(r'C:\\Users\\GREAT\\Desktop\\USA_covid.csv')"
   ]
  },
  {
   "cell_type": "code",
   "execution_count": 3,
   "metadata": {},
   "outputs": [
    {
     "data": {
      "text/html": [
       "<div>\n",
       "<style scoped>\n",
       "    .dataframe tbody tr th:only-of-type {\n",
       "        vertical-align: middle;\n",
       "    }\n",
       "\n",
       "    .dataframe tbody tr th {\n",
       "        vertical-align: top;\n",
       "    }\n",
       "\n",
       "    .dataframe thead th {\n",
       "        text-align: right;\n",
       "    }\n",
       "</style>\n",
       "<table border=\"1\" class=\"dataframe\">\n",
       "  <thead>\n",
       "    <tr style=\"text-align: right;\">\n",
       "      <th></th>\n",
       "      <th>Year</th>\n",
       "      <th>submission_date</th>\n",
       "      <th>Month</th>\n",
       "      <th>state</th>\n",
       "      <th>tot_cases</th>\n",
       "      <th>conf_cases</th>\n",
       "      <th>prob_cases</th>\n",
       "      <th>new_case</th>\n",
       "      <th>pnew_case</th>\n",
       "      <th>tot_death</th>\n",
       "      <th>conf_death</th>\n",
       "      <th>prob_death</th>\n",
       "      <th>new_death</th>\n",
       "      <th>pnew_death</th>\n",
       "      <th>Created_Month</th>\n",
       "    </tr>\n",
       "  </thead>\n",
       "  <tbody>\n",
       "    <tr>\n",
       "      <th>0</th>\n",
       "      <td>2021</td>\n",
       "      <td>3/11/2021</td>\n",
       "      <td>March</td>\n",
       "      <td>KS</td>\n",
       "      <td>297229</td>\n",
       "      <td>241035.0</td>\n",
       "      <td>56194</td>\n",
       "      <td>0</td>\n",
       "      <td>0</td>\n",
       "      <td>4851</td>\n",
       "      <td>0</td>\n",
       "      <td>0</td>\n",
       "      <td>0</td>\n",
       "      <td>0</td>\n",
       "      <td>March</td>\n",
       "    </tr>\n",
       "    <tr>\n",
       "      <th>1</th>\n",
       "      <td>2022</td>\n",
       "      <td>12/1/2021</td>\n",
       "      <td>December</td>\n",
       "      <td>ND</td>\n",
       "      <td>163565</td>\n",
       "      <td>135705.0</td>\n",
       "      <td>27860</td>\n",
       "      <td>589</td>\n",
       "      <td>220</td>\n",
       "      <td>1907</td>\n",
       "      <td>0</td>\n",
       "      <td>0</td>\n",
       "      <td>9</td>\n",
       "      <td>0</td>\n",
       "      <td>December</td>\n",
       "    </tr>\n",
       "  </tbody>\n",
       "</table>\n",
       "</div>"
      ],
      "text/plain": [
       "   Year submission_date     Month state  tot_cases  conf_cases  prob_cases  \\\n",
       "0  2021       3/11/2021     March    KS     297229    241035.0       56194   \n",
       "1  2022       12/1/2021  December    ND     163565    135705.0       27860   \n",
       "\n",
       "   new_case  pnew_case  tot_death  conf_death  prob_death  new_death  \\\n",
       "0         0          0       4851           0           0          0   \n",
       "1       589        220       1907           0           0          9   \n",
       "\n",
       "   pnew_death Created_Month  \n",
       "0           0         March  \n",
       "1           0      December  "
      ]
     },
     "execution_count": 3,
     "metadata": {},
     "output_type": "execute_result"
    }
   ],
   "source": [
    "data.head(2)"
   ]
  },
  {
   "cell_type": "code",
   "execution_count": 4,
   "metadata": {},
   "outputs": [
    {
     "data": {
      "text/plain": [
       "(60060, 15)"
      ]
     },
     "execution_count": 4,
     "metadata": {},
     "output_type": "execute_result"
    }
   ],
   "source": [
    "data.shape"
   ]
  },
  {
   "cell_type": "code",
   "execution_count": 5,
   "metadata": {},
   "outputs": [
    {
     "data": {
      "text/plain": [
       "Index(['Year', 'submission_date', 'Month', 'state', 'tot_cases', 'conf_cases',\n",
       "       'prob_cases', 'new_case', 'pnew_case', 'tot_death', 'conf_death',\n",
       "       'prob_death', 'new_death', 'pnew_death', 'Created_Month'],\n",
       "      dtype='object')"
      ]
     },
     "execution_count": 5,
     "metadata": {},
     "output_type": "execute_result"
    }
   ],
   "source": [
    "#checking the column names\n",
    "\n",
    "data.columns"
   ]
  },
  {
   "cell_type": "code",
   "execution_count": 6,
   "metadata": {},
   "outputs": [
    {
     "data": {
      "text/plain": [
       "Year\n",
       "1900        1779829\n",
       "2020    13601249405\n",
       "2021    14221239905\n",
       "2022    11632995423\n",
       "Name: tot_cases, dtype: int64"
      ]
     },
     "execution_count": 6,
     "metadata": {},
     "output_type": "execute_result"
    }
   ],
   "source": [
    "#Checking the total number of cases per each year\n",
    "\n",
    "cases=data.groupby('Year')['tot_cases'].sum()\n",
    "cases"
   ]
  },
  {
   "cell_type": "code",
   "execution_count": 7,
   "metadata": {},
   "outputs": [
    {
     "data": {
      "text/plain": [
       "([<matplotlib.patches.Wedge at 0x1ac8f1492d0>,\n",
       "  <matplotlib.patches.Wedge at 0x1ac8f188c10>,\n",
       "  <matplotlib.patches.Wedge at 0x1ac8f18abd0>,\n",
       "  <matplotlib.patches.Wedge at 0x1ac8f194a90>],\n",
       " [Text(1.0999999889550172, 0.0001558812445578212, '1900'),\n",
       "  Text(0.5153377875092766, 0.9718163225450804, '2020'),\n",
       "  Text(-1.086495885758517, -0.17183332106962146, '2021'),\n",
       "  Text(0.6609454781715954, -0.8792900971150086, '2022')],\n",
       " [Text(0.5999999939754639, 8.502613339517519e-05, '0.0%'),\n",
       "  Text(0.28109333864142355, 0.5300816304791347, '34.5%'),\n",
       "  Text(-0.5926341195046456, -0.09372726603797533, '36.0%'),\n",
       "  Text(0.3605157153663247, -0.4796127802445501, '29.5%')])"
      ]
     },
     "execution_count": 7,
     "metadata": {},
     "output_type": "execute_result"
    },
    {
     "data": {
      "image/png": "[encoded data removed]",
      "text/plain": [
       "<Figure size 640x480 with 1 Axes>"
      ]
     },
     "metadata": {},
     "output_type": "display_data"
    }
   ],
   "source": [
    "#graphical representation of total cases per year\n",
    "\n",
    "plt.pie (cases,labels= cases.index,autopct='%1.1f%%')"
   ]
  },
  {
   "cell_type": "code",
   "execution_count": 8,
   "metadata": {},
   "outputs": [
    {
     "data": {
      "text/html": [
       "<div>\n",
       "<style scoped>\n",
       "    .dataframe tbody tr th:only-of-type {\n",
       "        vertical-align: middle;\n",
       "    }\n",
       "\n",
       "    .dataframe tbody tr th {\n",
       "        vertical-align: top;\n",
       "    }\n",
       "\n",
       "    .dataframe thead th {\n",
       "        text-align: right;\n",
       "    }\n",
       "</style>\n",
       "<table border=\"1\" class=\"dataframe\">\n",
       "  <thead>\n",
       "    <tr style=\"text-align: right;\">\n",
       "      <th></th>\n",
       "      <th>Year</th>\n",
       "      <th>submission_date</th>\n",
       "      <th>Month</th>\n",
       "      <th>state</th>\n",
       "      <th>tot_cases</th>\n",
       "      <th>conf_cases</th>\n",
       "      <th>prob_cases</th>\n",
       "      <th>new_case</th>\n",
       "      <th>pnew_case</th>\n",
       "      <th>tot_death</th>\n",
       "      <th>conf_death</th>\n",
       "      <th>prob_death</th>\n",
       "      <th>new_death</th>\n",
       "      <th>pnew_death</th>\n",
       "      <th>Created_Month</th>\n",
       "    </tr>\n",
       "  </thead>\n",
       "  <tbody>\n",
       "    <tr>\n",
       "      <th>0</th>\n",
       "      <td>2021</td>\n",
       "      <td>3/11/2021</td>\n",
       "      <td>March</td>\n",
       "      <td>KS</td>\n",
       "      <td>297229</td>\n",
       "      <td>241035.0</td>\n",
       "      <td>56194</td>\n",
       "      <td>0</td>\n",
       "      <td>0</td>\n",
       "      <td>4851</td>\n",
       "      <td>0</td>\n",
       "      <td>0</td>\n",
       "      <td>0</td>\n",
       "      <td>0</td>\n",
       "      <td>March</td>\n",
       "    </tr>\n",
       "    <tr>\n",
       "      <th>1</th>\n",
       "      <td>2022</td>\n",
       "      <td>12/1/2021</td>\n",
       "      <td>December</td>\n",
       "      <td>ND</td>\n",
       "      <td>163565</td>\n",
       "      <td>135705.0</td>\n",
       "      <td>27860</td>\n",
       "      <td>589</td>\n",
       "      <td>220</td>\n",
       "      <td>1907</td>\n",
       "      <td>0</td>\n",
       "      <td>0</td>\n",
       "      <td>9</td>\n",
       "      <td>0</td>\n",
       "      <td>December</td>\n",
       "    </tr>\n",
       "  </tbody>\n",
       "</table>\n",
       "</div>"
      ],
      "text/plain": [
       "   Year submission_date     Month state  tot_cases  conf_cases  prob_cases  \\\n",
       "0  2021       3/11/2021     March    KS     297229    241035.0       56194   \n",
       "1  2022       12/1/2021  December    ND     163565    135705.0       27860   \n",
       "\n",
       "   new_case  pnew_case  tot_death  conf_death  prob_death  new_death  \\\n",
       "0         0          0       4851           0           0          0   \n",
       "1       589        220       1907           0           0          9   \n",
       "\n",
       "   pnew_death Created_Month  \n",
       "0           0         March  \n",
       "1           0      December  "
      ]
     },
     "execution_count": 8,
     "metadata": {},
     "output_type": "execute_result"
    }
   ],
   "source": [
    "data.head(2)"
   ]
  },
  {
   "cell_type": "code",
   "execution_count": 9,
   "metadata": {},
   "outputs": [],
   "source": [
    "total_case_by_state=data.groupby('state')['tot_cases'].sum().head()"
   ]
  },
  {
   "cell_type": "code",
   "execution_count": 10,
   "metadata": {},
   "outputs": [
    {
     "data": {
      "text/html": [
       "<div>\n",
       "<style scoped>\n",
       "    .dataframe tbody tr th:only-of-type {\n",
       "        vertical-align: middle;\n",
       "    }\n",
       "\n",
       "    .dataframe tbody tr th {\n",
       "        vertical-align: top;\n",
       "    }\n",
       "\n",
       "    .dataframe thead th {\n",
       "        text-align: right;\n",
       "    }\n",
       "</style>\n",
       "<table border=\"1\" class=\"dataframe\">\n",
       "  <thead>\n",
       "    <tr style=\"text-align: right;\">\n",
       "      <th></th>\n",
       "      <th>Year</th>\n",
       "      <th>submission_date</th>\n",
       "      <th>Month</th>\n",
       "      <th>state</th>\n",
       "      <th>tot_cases</th>\n",
       "      <th>conf_cases</th>\n",
       "      <th>prob_cases</th>\n",
       "      <th>new_case</th>\n",
       "      <th>pnew_case</th>\n",
       "      <th>tot_death</th>\n",
       "      <th>conf_death</th>\n",
       "      <th>prob_death</th>\n",
       "      <th>new_death</th>\n",
       "      <th>pnew_death</th>\n",
       "      <th>Created_Month</th>\n",
       "    </tr>\n",
       "  </thead>\n",
       "  <tbody>\n",
       "    <tr>\n",
       "      <th>0</th>\n",
       "      <td>2021</td>\n",
       "      <td>3/11/2021</td>\n",
       "      <td>March</td>\n",
       "      <td>KS</td>\n",
       "      <td>297229</td>\n",
       "      <td>241035.0</td>\n",
       "      <td>56194</td>\n",
       "      <td>0</td>\n",
       "      <td>0</td>\n",
       "      <td>4851</td>\n",
       "      <td>0</td>\n",
       "      <td>0</td>\n",
       "      <td>0</td>\n",
       "      <td>0</td>\n",
       "      <td>March</td>\n",
       "    </tr>\n",
       "    <tr>\n",
       "      <th>1</th>\n",
       "      <td>2022</td>\n",
       "      <td>12/1/2021</td>\n",
       "      <td>December</td>\n",
       "      <td>ND</td>\n",
       "      <td>163565</td>\n",
       "      <td>135705.0</td>\n",
       "      <td>27860</td>\n",
       "      <td>589</td>\n",
       "      <td>220</td>\n",
       "      <td>1907</td>\n",
       "      <td>0</td>\n",
       "      <td>0</td>\n",
       "      <td>9</td>\n",
       "      <td>0</td>\n",
       "      <td>December</td>\n",
       "    </tr>\n",
       "    <tr>\n",
       "      <th>2</th>\n",
       "      <td>2021</td>\n",
       "      <td>1/2/2022</td>\n",
       "      <td>January</td>\n",
       "      <td>AS</td>\n",
       "      <td>11</td>\n",
       "      <td>NaN</td>\n",
       "      <td>0</td>\n",
       "      <td>0</td>\n",
       "      <td>0</td>\n",
       "      <td>0</td>\n",
       "      <td>0</td>\n",
       "      <td>0</td>\n",
       "      <td>0</td>\n",
       "      <td>0</td>\n",
       "      <td>January</td>\n",
       "    </tr>\n",
       "  </tbody>\n",
       "</table>\n",
       "</div>"
      ],
      "text/plain": [
       "   Year submission_date     Month state  tot_cases  conf_cases  prob_cases  \\\n",
       "0  2021       3/11/2021     March    KS     297229    241035.0       56194   \n",
       "1  2022       12/1/2021  December    ND     163565    135705.0       27860   \n",
       "2  2021        1/2/2022   January    AS         11         NaN           0   \n",
       "\n",
       "   new_case  pnew_case  tot_death  conf_death  prob_death  new_death  \\\n",
       "0         0          0       4851           0           0          0   \n",
       "1       589        220       1907           0           0          9   \n",
       "2         0          0          0           0           0          0   \n",
       "\n",
       "   pnew_death Created_Month  \n",
       "0           0         March  \n",
       "1           0      December  \n",
       "2           0       January  "
      ]
     },
     "execution_count": 10,
     "metadata": {},
     "output_type": "execute_result"
    }
   ],
   "source": [
    "data.head(3)"
   ]
  },
  {
   "cell_type": "code",
   "execution_count": 11,
   "metadata": {},
   "outputs": [
    {
     "data": {
      "text/html": [
       "<div>\n",
       "<style scoped>\n",
       "    .dataframe tbody tr th:only-of-type {\n",
       "        vertical-align: middle;\n",
       "    }\n",
       "\n",
       "    .dataframe tbody tr th {\n",
       "        vertical-align: top;\n",
       "    }\n",
       "\n",
       "    .dataframe thead th {\n",
       "        text-align: right;\n",
       "    }\n",
       "</style>\n",
       "<table border=\"1\" class=\"dataframe\">\n",
       "  <thead>\n",
       "    <tr style=\"text-align: right;\">\n",
       "      <th></th>\n",
       "      <th>Year</th>\n",
       "      <th>submission_date</th>\n",
       "      <th>Month</th>\n",
       "      <th>state</th>\n",
       "      <th>tot_cases</th>\n",
       "      <th>conf_cases</th>\n",
       "      <th>prob_cases</th>\n",
       "      <th>new_case</th>\n",
       "      <th>pnew_case</th>\n",
       "      <th>tot_death</th>\n",
       "      <th>conf_death</th>\n",
       "      <th>prob_death</th>\n",
       "      <th>new_death</th>\n",
       "      <th>pnew_death</th>\n",
       "      <th>Created_Month</th>\n",
       "    </tr>\n",
       "  </thead>\n",
       "  <tbody>\n",
       "    <tr>\n",
       "      <th>0</th>\n",
       "      <td>2021</td>\n",
       "      <td>3/11/2021</td>\n",
       "      <td>March</td>\n",
       "      <td>KS</td>\n",
       "      <td>297229</td>\n",
       "      <td>241035.0</td>\n",
       "      <td>56194</td>\n",
       "      <td>0</td>\n",
       "      <td>0</td>\n",
       "      <td>4851</td>\n",
       "      <td>0</td>\n",
       "      <td>0</td>\n",
       "      <td>0</td>\n",
       "      <td>0</td>\n",
       "      <td>March</td>\n",
       "    </tr>\n",
       "    <tr>\n",
       "      <th>2</th>\n",
       "      <td>2021</td>\n",
       "      <td>1/2/2022</td>\n",
       "      <td>January</td>\n",
       "      <td>AS</td>\n",
       "      <td>11</td>\n",
       "      <td>NaN</td>\n",
       "      <td>0</td>\n",
       "      <td>0</td>\n",
       "      <td>0</td>\n",
       "      <td>0</td>\n",
       "      <td>0</td>\n",
       "      <td>0</td>\n",
       "      <td>0</td>\n",
       "      <td>0</td>\n",
       "      <td>January</td>\n",
       "    </tr>\n",
       "    <tr>\n",
       "      <th>6</th>\n",
       "      <td>2021</td>\n",
       "      <td>4/3/2020</td>\n",
       "      <td>April</td>\n",
       "      <td>ND</td>\n",
       "      <td>173</td>\n",
       "      <td>NaN</td>\n",
       "      <td>0</td>\n",
       "      <td>14</td>\n",
       "      <td>0</td>\n",
       "      <td>3</td>\n",
       "      <td>0</td>\n",
       "      <td>0</td>\n",
       "      <td>0</td>\n",
       "      <td>0</td>\n",
       "      <td>April</td>\n",
       "    </tr>\n",
       "    <tr>\n",
       "      <th>7</th>\n",
       "      <td>2021</td>\n",
       "      <td>9/4/2021</td>\n",
       "      <td>September</td>\n",
       "      <td>PR</td>\n",
       "      <td>173967</td>\n",
       "      <td>144788.0</td>\n",
       "      <td>29179</td>\n",
       "      <td>667</td>\n",
       "      <td>274</td>\n",
       "      <td>2911</td>\n",
       "      <td>2482</td>\n",
       "      <td>429</td>\n",
       "      <td>8</td>\n",
       "      <td>3</td>\n",
       "      <td>September</td>\n",
       "    </tr>\n",
       "    <tr>\n",
       "      <th>10</th>\n",
       "      <td>2021</td>\n",
       "      <td>1/1/2022</td>\n",
       "      <td>January</td>\n",
       "      <td>UT</td>\n",
       "      <td>636992</td>\n",
       "      <td>636992.0</td>\n",
       "      <td>0</td>\n",
       "      <td>0</td>\n",
       "      <td>0</td>\n",
       "      <td>3787</td>\n",
       "      <td>3635</td>\n",
       "      <td>152</td>\n",
       "      <td>0</td>\n",
       "      <td>0</td>\n",
       "      <td>January</td>\n",
       "    </tr>\n",
       "    <tr>\n",
       "      <th>...</th>\n",
       "      <td>...</td>\n",
       "      <td>...</td>\n",
       "      <td>...</td>\n",
       "      <td>...</td>\n",
       "      <td>...</td>\n",
       "      <td>...</td>\n",
       "      <td>...</td>\n",
       "      <td>...</td>\n",
       "      <td>...</td>\n",
       "      <td>...</td>\n",
       "      <td>...</td>\n",
       "      <td>...</td>\n",
       "      <td>...</td>\n",
       "      <td>...</td>\n",
       "      <td>...</td>\n",
       "    </tr>\n",
       "    <tr>\n",
       "      <th>60050</th>\n",
       "      <td>2021</td>\n",
       "      <td>4/8/2022</td>\n",
       "      <td>April</td>\n",
       "      <td>TX</td>\n",
       "      <td>6688566</td>\n",
       "      <td>NaN</td>\n",
       "      <td>0</td>\n",
       "      <td>2037</td>\n",
       "      <td>1198</td>\n",
       "      <td>86181</td>\n",
       "      <td>0</td>\n",
       "      <td>0</td>\n",
       "      <td>8</td>\n",
       "      <td>0</td>\n",
       "      <td>April</td>\n",
       "    </tr>\n",
       "    <tr>\n",
       "      <th>60051</th>\n",
       "      <td>2021</td>\n",
       "      <td>4/28/2021</td>\n",
       "      <td>April</td>\n",
       "      <td>AS</td>\n",
       "      <td>0</td>\n",
       "      <td>NaN</td>\n",
       "      <td>0</td>\n",
       "      <td>0</td>\n",
       "      <td>0</td>\n",
       "      <td>0</td>\n",
       "      <td>0</td>\n",
       "      <td>0</td>\n",
       "      <td>0</td>\n",
       "      <td>0</td>\n",
       "      <td>April</td>\n",
       "    </tr>\n",
       "    <tr>\n",
       "      <th>60052</th>\n",
       "      <td>2021</td>\n",
       "      <td>2/11/2021</td>\n",
       "      <td>February</td>\n",
       "      <td>ND</td>\n",
       "      <td>98466</td>\n",
       "      <td>93723.0</td>\n",
       "      <td>4743</td>\n",
       "      <td>113</td>\n",
       "      <td>22</td>\n",
       "      <td>1431</td>\n",
       "      <td>0</td>\n",
       "      <td>0</td>\n",
       "      <td>1</td>\n",
       "      <td>0</td>\n",
       "      <td>February</td>\n",
       "    </tr>\n",
       "    <tr>\n",
       "      <th>60053</th>\n",
       "      <td>2021</td>\n",
       "      <td>9/19/2021</td>\n",
       "      <td>September</td>\n",
       "      <td>GU</td>\n",
       "      <td>13660</td>\n",
       "      <td>NaN</td>\n",
       "      <td>0</td>\n",
       "      <td>128</td>\n",
       "      <td>150</td>\n",
       "      <td>181</td>\n",
       "      <td>0</td>\n",
       "      <td>0</td>\n",
       "      <td>2</td>\n",
       "      <td>0</td>\n",
       "      <td>September</td>\n",
       "    </tr>\n",
       "    <tr>\n",
       "      <th>60054</th>\n",
       "      <td>2021</td>\n",
       "      <td>6/23/2021</td>\n",
       "      <td>June</td>\n",
       "      <td>IN</td>\n",
       "      <td>752108</td>\n",
       "      <td>NaN</td>\n",
       "      <td>0</td>\n",
       "      <td>282</td>\n",
       "      <td>0</td>\n",
       "      <td>13806</td>\n",
       "      <td>13383</td>\n",
       "      <td>423</td>\n",
       "      <td>5</td>\n",
       "      <td>0</td>\n",
       "      <td>June</td>\n",
       "    </tr>\n",
       "  </tbody>\n",
       "</table>\n",
       "<p>21899 rows × 15 columns</p>\n",
       "</div>"
      ],
      "text/plain": [
       "       Year submission_date      Month state  tot_cases  conf_cases  \\\n",
       "0      2021       3/11/2021      March    KS     297229    241035.0   \n",
       "2      2021        1/2/2022    January    AS         11         NaN   \n",
       "6      2021        4/3/2020      April    ND        173         NaN   \n",
       "7      2021        9/4/2021  September    PR     173967    144788.0   \n",
       "10     2021        1/1/2022    January    UT     636992    636992.0   \n",
       "...     ...             ...        ...   ...        ...         ...   \n",
       "60050  2021        4/8/2022      April    TX    6688566         NaN   \n",
       "60051  2021       4/28/2021      April    AS          0         NaN   \n",
       "60052  2021       2/11/2021   February    ND      98466     93723.0   \n",
       "60053  2021       9/19/2021  September    GU      13660         NaN   \n",
       "60054  2021       6/23/2021       June    IN     752108         NaN   \n",
       "\n",
       "       prob_cases  new_case  pnew_case  tot_death  conf_death  prob_death  \\\n",
       "0           56194         0          0       4851           0           0   \n",
       "2               0         0          0          0           0           0   \n",
       "6               0        14          0          3           0           0   \n",
       "7           29179       667        274       2911        2482         429   \n",
       "10              0         0          0       3787        3635         152   \n",
       "...           ...       ...        ...        ...         ...         ...   \n",
       "60050           0      2037       1198      86181           0           0   \n",
       "60051           0         0          0          0           0           0   \n",
       "60052        4743       113         22       1431           0           0   \n",
       "60053           0       128        150        181           0           0   \n",
       "60054           0       282          0      13806       13383         423   \n",
       "\n",
       "       new_death  pnew_death Created_Month  \n",
       "0              0           0         March  \n",
       "2              0           0       January  \n",
       "6              0           0         April  \n",
       "7              8           3     September  \n",
       "10             0           0       January  \n",
       "...          ...         ...           ...  \n",
       "60050          8           0         April  \n",
       "60051          0           0         April  \n",
       "60052          1           0      February  \n",
       "60053          2           0     September  \n",
       "60054          5           0          June  \n",
       "\n",
       "[21899 rows x 15 columns]"
      ]
     },
     "execution_count": 11,
     "metadata": {},
     "output_type": "execute_result"
    }
   ],
   "source": [
    "#filtering 2021 data from the whole data set\n",
    "\n",
    "y2021=data[data['Year']==2021]\n",
    "y2021"
   ]
  },
  {
   "cell_type": "code",
   "execution_count": 12,
   "metadata": {},
   "outputs": [],
   "source": [
    "#Total cases by month in 2021\n",
    "\n",
    "Total_cases_by_month = y2021.groupby('Month')['tot_cases'].count()"
   ]
  },
  {
   "cell_type": "code",
   "execution_count": 13,
   "metadata": {},
   "outputs": [
    {
     "data": {
      "text/plain": [
       "<AxesSubplot: xlabel='Month'>"
      ]
     },
     "execution_count": 13,
     "metadata": {},
     "output_type": "execute_result"
    },
    {
     "data": {
      "image/png": "[encoded data removed]",
      "text/plain": [
       "<Figure size 600x300 with 1 Axes>"
      ]
     },
     "metadata": {},
     "output_type": "display_data"
    }
   ],
   "source": [
    "#graphical representation of total cases by month in 2021\n",
    "\n",
    "total_case_in_2021 = y2021.groupby('Month')['tot_cases'].count().plot(kind='line',figsize=(6,3))\n",
    "total_case_in_2021"
   ]
  },
  {
   "cell_type": "code",
   "execution_count": 14,
   "metadata": {},
   "outputs": [
    {
     "data": {
      "text/plain": [
       "107066561"
      ]
     },
     "execution_count": 14,
     "metadata": {},
     "output_type": "execute_result"
    }
   ],
   "source": [
    "#sum of overall total death\n",
    "\n",
    "y2021.conf_death.sum()"
   ]
  },
  {
   "cell_type": "code",
   "execution_count": 15,
   "metadata": {},
   "outputs": [
    {
     "data": {
      "text/plain": [
       "<AxesSubplot: xlabel='Month'>"
      ]
     },
     "execution_count": 15,
     "metadata": {},
     "output_type": "execute_result"
    },
    {
     "data": {
      "image/png": "[encoded data removed]",
      "text/plain": [
       "<Figure size 640x480 with 1 Axes>"
      ]
     },
     "metadata": {},
     "output_type": "display_data"
    }
   ],
   "source": [
    "#graphocal representation of total confirm death by month in 2021\n",
    "\n",
    "y2021.groupby('Month')['conf_death'].sum().plot(kind='bar')"
   ]
  },
  {
   "cell_type": "code",
   "execution_count": 16,
   "metadata": {},
   "outputs": [
    {
     "data": {
      "text/html": [
       "<div>\n",
       "<style scoped>\n",
       "    .dataframe tbody tr th:only-of-type {\n",
       "        vertical-align: middle;\n",
       "    }\n",
       "\n",
       "    .dataframe tbody tr th {\n",
       "        vertical-align: top;\n",
       "    }\n",
       "\n",
       "    .dataframe thead th {\n",
       "        text-align: right;\n",
       "    }\n",
       "</style>\n",
       "<table border=\"1\" class=\"dataframe\">\n",
       "  <thead>\n",
       "    <tr style=\"text-align: right;\">\n",
       "      <th></th>\n",
       "      <th>Year</th>\n",
       "      <th>submission_date</th>\n",
       "      <th>Month</th>\n",
       "      <th>state</th>\n",
       "      <th>tot_cases</th>\n",
       "      <th>conf_cases</th>\n",
       "      <th>prob_cases</th>\n",
       "      <th>new_case</th>\n",
       "      <th>pnew_case</th>\n",
       "      <th>tot_death</th>\n",
       "      <th>conf_death</th>\n",
       "      <th>prob_death</th>\n",
       "      <th>new_death</th>\n",
       "      <th>pnew_death</th>\n",
       "      <th>Created_Month</th>\n",
       "    </tr>\n",
       "  </thead>\n",
       "  <tbody>\n",
       "    <tr>\n",
       "      <th>0</th>\n",
       "      <td>2021</td>\n",
       "      <td>3/11/2021</td>\n",
       "      <td>March</td>\n",
       "      <td>KS</td>\n",
       "      <td>297229</td>\n",
       "      <td>241035.0</td>\n",
       "      <td>56194</td>\n",
       "      <td>0</td>\n",
       "      <td>0</td>\n",
       "      <td>4851</td>\n",
       "      <td>0</td>\n",
       "      <td>0</td>\n",
       "      <td>0</td>\n",
       "      <td>0</td>\n",
       "      <td>March</td>\n",
       "    </tr>\n",
       "    <tr>\n",
       "      <th>1</th>\n",
       "      <td>2022</td>\n",
       "      <td>12/1/2021</td>\n",
       "      <td>December</td>\n",
       "      <td>ND</td>\n",
       "      <td>163565</td>\n",
       "      <td>135705.0</td>\n",
       "      <td>27860</td>\n",
       "      <td>589</td>\n",
       "      <td>220</td>\n",
       "      <td>1907</td>\n",
       "      <td>0</td>\n",
       "      <td>0</td>\n",
       "      <td>9</td>\n",
       "      <td>0</td>\n",
       "      <td>December</td>\n",
       "    </tr>\n",
       "  </tbody>\n",
       "</table>\n",
       "</div>"
      ],
      "text/plain": [
       "   Year submission_date     Month state  tot_cases  conf_cases  prob_cases  \\\n",
       "0  2021       3/11/2021     March    KS     297229    241035.0       56194   \n",
       "1  2022       12/1/2021  December    ND     163565    135705.0       27860   \n",
       "\n",
       "   new_case  pnew_case  tot_death  conf_death  prob_death  new_death  \\\n",
       "0         0          0       4851           0           0          0   \n",
       "1       589        220       1907           0           0          9   \n",
       "\n",
       "   pnew_death Created_Month  \n",
       "0           0         March  \n",
       "1           0      December  "
      ]
     },
     "execution_count": 16,
     "metadata": {},
     "output_type": "execute_result"
    }
   ],
   "source": [
    "data.head(2)"
   ]
  },
  {
   "cell_type": "code",
   "execution_count": 17,
   "metadata": {},
   "outputs": [
    {
     "data": {
      "text/plain": [
       "Year\n",
       "1900    20334.000000\n",
       "2020     9422.548551\n",
       "2021     9208.060870\n",
       "2022     9445.635682\n",
       "Name: tot_death, dtype: float64"
      ]
     },
     "execution_count": 17,
     "metadata": {},
     "output_type": "execute_result"
    }
   ],
   "source": [
    "#Total average death by year\n",
    "\n",
    "data.groupby('Year')['tot_death'].mean()"
   ]
  },
  {
   "cell_type": "code",
   "execution_count": null,
   "metadata": {},
   "outputs": [],
   "source": []
  }
 ],
 "metadata": {
  "kernelspec": {
   "display_name": "Python 3",
   "language": "python",
   "name": "python3"
  },
  "language_info": {
   "codemirror_mode": {
    "name": "ipython",
    "version": 3
   },
   "file_extension": ".py",
   "mimetype": "text/x-python",
   "name": "python",
   "nbconvert_exporter": "python",
   "pygments_lexer": "ipython3",
   "version": "3.11.1"
  },
  "orig_nbformat": 4
 },
 "nbformat": 4,
 "nbformat_minor": 2
}
