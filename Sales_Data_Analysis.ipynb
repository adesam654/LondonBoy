{
 "cells": [
  {
   "cell_type": "code",
   "execution_count": 54,
   "metadata": {},
   "outputs": [],
   "source": [
    "import pandas as pd\n",
    "import numpy as np\n",
    "from matplotlib import pyplot as plt\n",
    "import seaborn as sns\n",
    "\n",
    "data=pd.read_csv(r'C:\\Users\\GREAT\\Desktop\\data\\ecom 2.csv')"
   ]
  },
  {
   "cell_type": "code",
   "execution_count": 55,
   "metadata": {},
   "outputs": [
    {
     "data": {
      "text/html": [
       "<div>\n",
       "<style scoped>\n",
       "    .dataframe tbody tr th:only-of-type {\n",
       "        vertical-align: middle;\n",
       "    }\n",
       "\n",
       "    .dataframe tbody tr th {\n",
       "        vertical-align: top;\n",
       "    }\n",
       "\n",
       "    .dataframe thead th {\n",
       "        text-align: right;\n",
       "    }\n",
       "</style>\n",
       "<table border=\"1\" class=\"dataframe\">\n",
       "  <thead>\n",
       "    <tr style=\"text-align: right;\">\n",
       "      <th></th>\n",
       "      <th>Customer ID</th>\n",
       "      <th>Purchase Date</th>\n",
       "      <th>Year</th>\n",
       "      <th>Month</th>\n",
       "      <th>Product Category</th>\n",
       "      <th>Product Price</th>\n",
       "      <th>Quantity</th>\n",
       "      <th>Total Purchase Amount</th>\n",
       "      <th>Payment Method</th>\n",
       "      <th>Customer Age</th>\n",
       "      <th>Returns</th>\n",
       "      <th>Customer Name</th>\n",
       "      <th>Gender</th>\n",
       "    </tr>\n",
       "  </thead>\n",
       "  <tbody>\n",
       "    <tr>\n",
       "      <th>0</th>\n",
       "      <td>44605</td>\n",
       "      <td>5/3/2023 21:30</td>\n",
       "      <td>2023</td>\n",
       "      <td>May</td>\n",
       "      <td>Home</td>\n",
       "      <td>177</td>\n",
       "      <td>1</td>\n",
       "      <td>2427</td>\n",
       "      <td>PayPal</td>\n",
       "      <td>31</td>\n",
       "      <td>1.0</td>\n",
       "      <td>John Rivera</td>\n",
       "      <td>Female</td>\n",
       "    </tr>\n",
       "    <tr>\n",
       "      <th>1</th>\n",
       "      <td>44605</td>\n",
       "      <td>5/16/2021 13:57</td>\n",
       "      <td>2021</td>\n",
       "      <td>May</td>\n",
       "      <td>Electronics</td>\n",
       "      <td>174</td>\n",
       "      <td>3</td>\n",
       "      <td>2448</td>\n",
       "      <td>PayPal</td>\n",
       "      <td>31</td>\n",
       "      <td>1.0</td>\n",
       "      <td>John Rivera</td>\n",
       "      <td>Female</td>\n",
       "    </tr>\n",
       "    <tr>\n",
       "      <th>2</th>\n",
       "      <td>44605</td>\n",
       "      <td>7/13/2020 6:16</td>\n",
       "      <td>2020</td>\n",
       "      <td>July</td>\n",
       "      <td>Books</td>\n",
       "      <td>413</td>\n",
       "      <td>1</td>\n",
       "      <td>2345</td>\n",
       "      <td>Credit Card</td>\n",
       "      <td>31</td>\n",
       "      <td>1.0</td>\n",
       "      <td>John Rivera</td>\n",
       "      <td>Female</td>\n",
       "    </tr>\n",
       "    <tr>\n",
       "      <th>3</th>\n",
       "      <td>44605</td>\n",
       "      <td>1/17/2023 13:14</td>\n",
       "      <td>2023</td>\n",
       "      <td>January</td>\n",
       "      <td>Electronics</td>\n",
       "      <td>396</td>\n",
       "      <td>3</td>\n",
       "      <td>937</td>\n",
       "      <td>Cash</td>\n",
       "      <td>31</td>\n",
       "      <td>0.0</td>\n",
       "      <td>John Rivera</td>\n",
       "      <td>Female</td>\n",
       "    </tr>\n",
       "    <tr>\n",
       "      <th>4</th>\n",
       "      <td>44605</td>\n",
       "      <td>5/1/2021 11:29</td>\n",
       "      <td>2021</td>\n",
       "      <td>May</td>\n",
       "      <td>Books</td>\n",
       "      <td>259</td>\n",
       "      <td>4</td>\n",
       "      <td>2598</td>\n",
       "      <td>PayPal</td>\n",
       "      <td>31</td>\n",
       "      <td>1.0</td>\n",
       "      <td>John Rivera</td>\n",
       "      <td>Female</td>\n",
       "    </tr>\n",
       "    <tr>\n",
       "      <th>...</th>\n",
       "      <td>...</td>\n",
       "      <td>...</td>\n",
       "      <td>...</td>\n",
       "      <td>...</td>\n",
       "      <td>...</td>\n",
       "      <td>...</td>\n",
       "      <td>...</td>\n",
       "      <td>...</td>\n",
       "      <td>...</td>\n",
       "      <td>...</td>\n",
       "      <td>...</td>\n",
       "      <td>...</td>\n",
       "      <td>...</td>\n",
       "    </tr>\n",
       "    <tr>\n",
       "      <th>249995</th>\n",
       "      <td>33807</td>\n",
       "      <td>1/24/2023 12:32</td>\n",
       "      <td>2023</td>\n",
       "      <td>January</td>\n",
       "      <td>Home</td>\n",
       "      <td>436</td>\n",
       "      <td>1</td>\n",
       "      <td>3664</td>\n",
       "      <td>Cash</td>\n",
       "      <td>63</td>\n",
       "      <td>0.0</td>\n",
       "      <td>Gabriel Williams</td>\n",
       "      <td>Male</td>\n",
       "    </tr>\n",
       "    <tr>\n",
       "      <th>249996</th>\n",
       "      <td>20455</td>\n",
       "      <td>6/4/2021 5:45</td>\n",
       "      <td>2021</td>\n",
       "      <td>June</td>\n",
       "      <td>Electronics</td>\n",
       "      <td>233</td>\n",
       "      <td>1</td>\n",
       "      <td>4374</td>\n",
       "      <td>Credit Card</td>\n",
       "      <td>66</td>\n",
       "      <td>1.0</td>\n",
       "      <td>Barry Foster</td>\n",
       "      <td>Female</td>\n",
       "    </tr>\n",
       "    <tr>\n",
       "      <th>249997</th>\n",
       "      <td>28055</td>\n",
       "      <td>11/10/2022 17:11</td>\n",
       "      <td>2022</td>\n",
       "      <td>November</td>\n",
       "      <td>Electronics</td>\n",
       "      <td>441</td>\n",
       "      <td>5</td>\n",
       "      <td>5296</td>\n",
       "      <td>Cash</td>\n",
       "      <td>63</td>\n",
       "      <td>NaN</td>\n",
       "      <td>Lisa Johnson</td>\n",
       "      <td>Female</td>\n",
       "    </tr>\n",
       "    <tr>\n",
       "      <th>249998</th>\n",
       "      <td>15023</td>\n",
       "      <td>6/27/2021 14:42</td>\n",
       "      <td>2021</td>\n",
       "      <td>June</td>\n",
       "      <td>Electronics</td>\n",
       "      <td>44</td>\n",
       "      <td>2</td>\n",
       "      <td>2517</td>\n",
       "      <td>Cash</td>\n",
       "      <td>64</td>\n",
       "      <td>1.0</td>\n",
       "      <td>Melissa Fernandez</td>\n",
       "      <td>Male</td>\n",
       "    </tr>\n",
       "    <tr>\n",
       "      <th>249999</th>\n",
       "      <td>4148</td>\n",
       "      <td>9/7/2020 5:12</td>\n",
       "      <td>2020</td>\n",
       "      <td>September</td>\n",
       "      <td>Home</td>\n",
       "      <td>307</td>\n",
       "      <td>5</td>\n",
       "      <td>3634</td>\n",
       "      <td>Cash</td>\n",
       "      <td>32</td>\n",
       "      <td>0.0</td>\n",
       "      <td>Angela Norton</td>\n",
       "      <td>Male</td>\n",
       "    </tr>\n",
       "  </tbody>\n",
       "</table>\n",
       "<p>250000 rows × 13 columns</p>\n",
       "</div>"
      ],
      "text/plain": [
       "        Customer ID     Purchase Date  Year      Month Product Category  \\\n",
       "0             44605    5/3/2023 21:30  2023        May             Home   \n",
       "1             44605   5/16/2021 13:57  2021        May      Electronics   \n",
       "2             44605    7/13/2020 6:16  2020       July            Books   \n",
       "3             44605   1/17/2023 13:14  2023    January      Electronics   \n",
       "4             44605    5/1/2021 11:29  2021        May            Books   \n",
       "...             ...               ...   ...        ...              ...   \n",
       "249995        33807   1/24/2023 12:32  2023    January             Home   \n",
       "249996        20455     6/4/2021 5:45  2021       June      Electronics   \n",
       "249997        28055  11/10/2022 17:11  2022   November      Electronics   \n",
       "249998        15023   6/27/2021 14:42  2021       June      Electronics   \n",
       "249999         4148     9/7/2020 5:12  2020  September             Home   \n",
       "\n",
       "        Product Price  Quantity  Total Purchase Amount Payment Method  \\\n",
       "0                 177         1                   2427         PayPal   \n",
       "1                 174         3                   2448         PayPal   \n",
       "2                 413         1                   2345    Credit Card   \n",
       "3                 396         3                    937           Cash   \n",
       "4                 259         4                   2598         PayPal   \n",
       "...               ...       ...                    ...            ...   \n",
       "249995            436         1                   3664           Cash   \n",
       "249996            233         1                   4374    Credit Card   \n",
       "249997            441         5                   5296           Cash   \n",
       "249998             44         2                   2517           Cash   \n",
       "249999            307         5                   3634           Cash   \n",
       "\n",
       "        Customer Age  Returns      Customer Name  Gender  \n",
       "0                 31      1.0        John Rivera  Female  \n",
       "1                 31      1.0        John Rivera  Female  \n",
       "2                 31      1.0        John Rivera  Female  \n",
       "3                 31      0.0        John Rivera  Female  \n",
       "4                 31      1.0        John Rivera  Female  \n",
       "...              ...      ...                ...     ...  \n",
       "249995            63      0.0   Gabriel Williams    Male  \n",
       "249996            66      1.0       Barry Foster  Female  \n",
       "249997            63      NaN       Lisa Johnson  Female  \n",
       "249998            64      1.0  Melissa Fernandez    Male  \n",
       "249999            32      0.0      Angela Norton    Male  \n",
       "\n",
       "[250000 rows x 13 columns]"
      ]
     },
     "execution_count": 55,
     "metadata": {},
     "output_type": "execute_result"
    }
   ],
   "source": [
    "data"
   ]
  },
  {
   "cell_type": "code",
   "execution_count": 56,
   "metadata": {},
   "outputs": [
    {
     "data": {
      "text/plain": [
       "(250000, 13)"
      ]
     },
     "execution_count": 56,
     "metadata": {},
     "output_type": "execute_result"
    }
   ],
   "source": [
    "data.shape"
   ]
  },
  {
   "cell_type": "code",
   "execution_count": 57,
   "metadata": {},
   "outputs": [
    {
     "data": {
      "text/html": [
       "<div>\n",
       "<style scoped>\n",
       "    .dataframe tbody tr th:only-of-type {\n",
       "        vertical-align: middle;\n",
       "    }\n",
       "\n",
       "    .dataframe tbody tr th {\n",
       "        vertical-align: top;\n",
       "    }\n",
       "\n",
       "    .dataframe thead th {\n",
       "        text-align: right;\n",
       "    }\n",
       "</style>\n",
       "<table border=\"1\" class=\"dataframe\">\n",
       "  <thead>\n",
       "    <tr style=\"text-align: right;\">\n",
       "      <th></th>\n",
       "      <th>Customer ID</th>\n",
       "      <th>Purchase Date</th>\n",
       "      <th>Year</th>\n",
       "      <th>Month</th>\n",
       "      <th>Product Category</th>\n",
       "      <th>Product Price</th>\n",
       "      <th>Quantity</th>\n",
       "      <th>Total Purchase Amount</th>\n",
       "      <th>Payment Method</th>\n",
       "      <th>Customer Age</th>\n",
       "      <th>Returns</th>\n",
       "      <th>Customer Name</th>\n",
       "      <th>Gender</th>\n",
       "    </tr>\n",
       "  </thead>\n",
       "  <tbody>\n",
       "    <tr>\n",
       "      <th>0</th>\n",
       "      <td>44605</td>\n",
       "      <td>5/3/2023 21:30</td>\n",
       "      <td>2023</td>\n",
       "      <td>May</td>\n",
       "      <td>Home</td>\n",
       "      <td>177</td>\n",
       "      <td>1</td>\n",
       "      <td>2427</td>\n",
       "      <td>PayPal</td>\n",
       "      <td>31</td>\n",
       "      <td>1.0</td>\n",
       "      <td>John Rivera</td>\n",
       "      <td>Female</td>\n",
       "    </tr>\n",
       "    <tr>\n",
       "      <th>1</th>\n",
       "      <td>44605</td>\n",
       "      <td>5/16/2021 13:57</td>\n",
       "      <td>2021</td>\n",
       "      <td>May</td>\n",
       "      <td>Electronics</td>\n",
       "      <td>174</td>\n",
       "      <td>3</td>\n",
       "      <td>2448</td>\n",
       "      <td>PayPal</td>\n",
       "      <td>31</td>\n",
       "      <td>1.0</td>\n",
       "      <td>John Rivera</td>\n",
       "      <td>Female</td>\n",
       "    </tr>\n",
       "    <tr>\n",
       "      <th>2</th>\n",
       "      <td>44605</td>\n",
       "      <td>7/13/2020 6:16</td>\n",
       "      <td>2020</td>\n",
       "      <td>July</td>\n",
       "      <td>Books</td>\n",
       "      <td>413</td>\n",
       "      <td>1</td>\n",
       "      <td>2345</td>\n",
       "      <td>Credit Card</td>\n",
       "      <td>31</td>\n",
       "      <td>1.0</td>\n",
       "      <td>John Rivera</td>\n",
       "      <td>Female</td>\n",
       "    </tr>\n",
       "    <tr>\n",
       "      <th>3</th>\n",
       "      <td>44605</td>\n",
       "      <td>1/17/2023 13:14</td>\n",
       "      <td>2023</td>\n",
       "      <td>January</td>\n",
       "      <td>Electronics</td>\n",
       "      <td>396</td>\n",
       "      <td>3</td>\n",
       "      <td>937</td>\n",
       "      <td>Cash</td>\n",
       "      <td>31</td>\n",
       "      <td>0.0</td>\n",
       "      <td>John Rivera</td>\n",
       "      <td>Female</td>\n",
       "    </tr>\n",
       "    <tr>\n",
       "      <th>4</th>\n",
       "      <td>44605</td>\n",
       "      <td>5/1/2021 11:29</td>\n",
       "      <td>2021</td>\n",
       "      <td>May</td>\n",
       "      <td>Books</td>\n",
       "      <td>259</td>\n",
       "      <td>4</td>\n",
       "      <td>2598</td>\n",
       "      <td>PayPal</td>\n",
       "      <td>31</td>\n",
       "      <td>1.0</td>\n",
       "      <td>John Rivera</td>\n",
       "      <td>Female</td>\n",
       "    </tr>\n",
       "  </tbody>\n",
       "</table>\n",
       "</div>"
      ],
      "text/plain": [
       "   Customer ID    Purchase Date  Year    Month Product Category  \\\n",
       "0        44605   5/3/2023 21:30  2023      May             Home   \n",
       "1        44605  5/16/2021 13:57  2021      May      Electronics   \n",
       "2        44605   7/13/2020 6:16  2020     July            Books   \n",
       "3        44605  1/17/2023 13:14  2023  January      Electronics   \n",
       "4        44605   5/1/2021 11:29  2021      May            Books   \n",
       "\n",
       "   Product Price  Quantity  Total Purchase Amount Payment Method  \\\n",
       "0            177         1                   2427         PayPal   \n",
       "1            174         3                   2448         PayPal   \n",
       "2            413         1                   2345    Credit Card   \n",
       "3            396         3                    937           Cash   \n",
       "4            259         4                   2598         PayPal   \n",
       "\n",
       "   Customer Age  Returns Customer Name  Gender  \n",
       "0            31      1.0   John Rivera  Female  \n",
       "1            31      1.0   John Rivera  Female  \n",
       "2            31      1.0   John Rivera  Female  \n",
       "3            31      0.0   John Rivera  Female  \n",
       "4            31      1.0   John Rivera  Female  "
      ]
     },
     "execution_count": 57,
     "metadata": {},
     "output_type": "execute_result"
    }
   ],
   "source": [
    "data.head()"
   ]
  },
  {
   "cell_type": "code",
   "execution_count": 58,
   "metadata": {},
   "outputs": [
    {
     "data": {
      "text/plain": [
       "Customer ID                int64\n",
       "Purchase Date             object\n",
       "Year                       int64\n",
       "Month                     object\n",
       "Product Category          object\n",
       "Product Price              int64\n",
       "Quantity                   int64\n",
       "Total Purchase Amount      int64\n",
       "Payment Method            object\n",
       "Customer Age               int64\n",
       "Returns                  float64\n",
       "Customer Name             object\n",
       "Gender                    object\n",
       "dtype: object"
      ]
     },
     "execution_count": 58,
     "metadata": {},
     "output_type": "execute_result"
    }
   ],
   "source": [
    "data.dtypes"
   ]
  },
  {
   "cell_type": "code",
   "execution_count": 59,
   "metadata": {},
   "outputs": [
    {
     "data": {
      "text/html": [
       "<div>\n",
       "<style scoped>\n",
       "    .dataframe tbody tr th:only-of-type {\n",
       "        vertical-align: middle;\n",
       "    }\n",
       "\n",
       "    .dataframe tbody tr th {\n",
       "        vertical-align: top;\n",
       "    }\n",
       "\n",
       "    .dataframe thead th {\n",
       "        text-align: right;\n",
       "    }\n",
       "</style>\n",
       "<table border=\"1\" class=\"dataframe\">\n",
       "  <thead>\n",
       "    <tr style=\"text-align: right;\">\n",
       "      <th></th>\n",
       "      <th>Customer ID</th>\n",
       "      <th>Purchase Date</th>\n",
       "      <th>Year</th>\n",
       "      <th>Month</th>\n",
       "      <th>Product Category</th>\n",
       "      <th>Product Price</th>\n",
       "      <th>Quantity</th>\n",
       "      <th>Total Purchase Amount</th>\n",
       "      <th>Payment Method</th>\n",
       "      <th>Customer Age</th>\n",
       "      <th>Returns</th>\n",
       "      <th>Customer Name</th>\n",
       "      <th>Gender</th>\n",
       "    </tr>\n",
       "  </thead>\n",
       "  <tbody>\n",
       "    <tr>\n",
       "      <th>0</th>\n",
       "      <td>44605</td>\n",
       "      <td>5/3/2023 21:30</td>\n",
       "      <td>2023</td>\n",
       "      <td>May</td>\n",
       "      <td>Home</td>\n",
       "      <td>177</td>\n",
       "      <td>1</td>\n",
       "      <td>2427</td>\n",
       "      <td>PayPal</td>\n",
       "      <td>31</td>\n",
       "      <td>1.0</td>\n",
       "      <td>John Rivera</td>\n",
       "      <td>Female</td>\n",
       "    </tr>\n",
       "    <tr>\n",
       "      <th>1</th>\n",
       "      <td>44605</td>\n",
       "      <td>5/16/2021 13:57</td>\n",
       "      <td>2021</td>\n",
       "      <td>May</td>\n",
       "      <td>Electronics</td>\n",
       "      <td>174</td>\n",
       "      <td>3</td>\n",
       "      <td>2448</td>\n",
       "      <td>PayPal</td>\n",
       "      <td>31</td>\n",
       "      <td>1.0</td>\n",
       "      <td>John Rivera</td>\n",
       "      <td>Female</td>\n",
       "    </tr>\n",
       "  </tbody>\n",
       "</table>\n",
       "</div>"
      ],
      "text/plain": [
       "   Customer ID    Purchase Date  Year Month Product Category  Product Price  \\\n",
       "0        44605   5/3/2023 21:30  2023   May             Home            177   \n",
       "1        44605  5/16/2021 13:57  2021   May      Electronics            174   \n",
       "\n",
       "   Quantity  Total Purchase Amount Payment Method  Customer Age  Returns  \\\n",
       "0         1                   2427         PayPal            31      1.0   \n",
       "1         3                   2448         PayPal            31      1.0   \n",
       "\n",
       "  Customer Name  Gender  \n",
       "0   John Rivera  Female  \n",
       "1   John Rivera  Female  "
      ]
     },
     "execution_count": 59,
     "metadata": {},
     "output_type": "execute_result"
    }
   ],
   "source": [
    "data.head(2)"
   ]
  },
  {
   "cell_type": "code",
   "execution_count": 60,
   "metadata": {},
   "outputs": [
    {
     "data": {
      "text/plain": [
       "Customer ID                  0\n",
       "Purchase Date                0\n",
       "Year                         0\n",
       "Month                        0\n",
       "Product Category             0\n",
       "Product Price                0\n",
       "Quantity                     0\n",
       "Total Purchase Amount        0\n",
       "Payment Method               0\n",
       "Customer Age                 0\n",
       "Returns                  47382\n",
       "Customer Name                0\n",
       "Gender                       0\n",
       "dtype: int64"
      ]
     },
     "execution_count": 60,
     "metadata": {},
     "output_type": "execute_result"
    }
   ],
   "source": [
    "#Checking the total null value from the data set,there are over forty seven thousand null values from Returns columns.\n",
    "\n",
    "data.isnull().sum()"
   ]
  },
  {
   "cell_type": "code",
   "execution_count": 61,
   "metadata": {},
   "outputs": [
    {
     "data": {
      "text/plain": [
       "Customer ID              0\n",
       "Purchase Date            0\n",
       "Year                     0\n",
       "Month                    0\n",
       "Product Category         0\n",
       "Product Price            0\n",
       "Quantity                 0\n",
       "Total Purchase Amount    0\n",
       "Payment Method           0\n",
       "Customer Age             0\n",
       "Returns                  0\n",
       "Customer Name            0\n",
       "Gender                   0\n",
       "dtype: int64"
      ]
     },
     "execution_count": 61,
     "metadata": {},
     "output_type": "execute_result"
    }
   ],
   "source": [
    "#The null values from Returns column were replaced with 0 and inplace value to make the changes permanent.\n",
    "\n",
    "data.fillna(0,inplace=True)\n",
    "data.isnull().sum()"
   ]
  },
  {
   "cell_type": "code",
   "execution_count": 62,
   "metadata": {},
   "outputs": [
    {
     "data": {
      "text/plain": [
       "Index(['Customer ID', 'Purchase Date', 'Year', 'Month', 'Product Category',\n",
       "       'Product Price', 'Quantity', 'Total Purchase Amount', 'Payment Method',\n",
       "       'Customer Age', 'Returns', 'Customer Name', 'Gender'],\n",
       "      dtype='object')"
      ]
     },
     "execution_count": 62,
     "metadata": {},
     "output_type": "execute_result"
    }
   ],
   "source": [
    "#checking the numbers and name of column in the data set\n",
    "\n",
    "data.columns"
   ]
  },
  {
   "cell_type": "code",
   "execution_count": 63,
   "metadata": {},
   "outputs": [],
   "source": [
    "#Renaming some of the column's name to the name i want using rename function\n",
    "\n",
    "rename_dic={'Purchase Date':'p_date',\n",
    "           'Product Category': 'pro_cat',\n",
    "           'Product Category': 'prod_Price',\n",
    "           'Total Purchase Amount': 'purchase_amount',\n",
    "           'Payment Method':'paymt_method',\n",
    "           'Customer Name':'cus_name'}\n",
    "data.rename( rename_dic,axis=1,inplace=True)"
   ]
  },
  {
   "cell_type": "code",
   "execution_count": 64,
   "metadata": {},
   "outputs": [
    {
     "data": {
      "text/html": [
       "<div>\n",
       "<style scoped>\n",
       "    .dataframe tbody tr th:only-of-type {\n",
       "        vertical-align: middle;\n",
       "    }\n",
       "\n",
       "    .dataframe tbody tr th {\n",
       "        vertical-align: top;\n",
       "    }\n",
       "\n",
       "    .dataframe thead th {\n",
       "        text-align: right;\n",
       "    }\n",
       "</style>\n",
       "<table border=\"1\" class=\"dataframe\">\n",
       "  <thead>\n",
       "    <tr style=\"text-align: right;\">\n",
       "      <th></th>\n",
       "      <th>Customer ID</th>\n",
       "      <th>p_date</th>\n",
       "      <th>Year</th>\n",
       "      <th>Month</th>\n",
       "      <th>prod_Price</th>\n",
       "      <th>Product Price</th>\n",
       "      <th>Quantity</th>\n",
       "      <th>purchase_amount</th>\n",
       "      <th>paymt_method</th>\n",
       "      <th>Customer Age</th>\n",
       "      <th>Returns</th>\n",
       "      <th>cus_name</th>\n",
       "      <th>Gender</th>\n",
       "    </tr>\n",
       "  </thead>\n",
       "  <tbody>\n",
       "    <tr>\n",
       "      <th>0</th>\n",
       "      <td>44605</td>\n",
       "      <td>5/3/2023 21:30</td>\n",
       "      <td>2023</td>\n",
       "      <td>May</td>\n",
       "      <td>Home</td>\n",
       "      <td>177</td>\n",
       "      <td>1</td>\n",
       "      <td>2427</td>\n",
       "      <td>PayPal</td>\n",
       "      <td>31</td>\n",
       "      <td>1.0</td>\n",
       "      <td>John Rivera</td>\n",
       "      <td>Female</td>\n",
       "    </tr>\n",
       "    <tr>\n",
       "      <th>1</th>\n",
       "      <td>44605</td>\n",
       "      <td>5/16/2021 13:57</td>\n",
       "      <td>2021</td>\n",
       "      <td>May</td>\n",
       "      <td>Electronics</td>\n",
       "      <td>174</td>\n",
       "      <td>3</td>\n",
       "      <td>2448</td>\n",
       "      <td>PayPal</td>\n",
       "      <td>31</td>\n",
       "      <td>1.0</td>\n",
       "      <td>John Rivera</td>\n",
       "      <td>Female</td>\n",
       "    </tr>\n",
       "  </tbody>\n",
       "</table>\n",
       "</div>"
      ],
      "text/plain": [
       "   Customer ID           p_date  Year Month   prod_Price  Product Price  \\\n",
       "0        44605   5/3/2023 21:30  2023   May         Home            177   \n",
       "1        44605  5/16/2021 13:57  2021   May  Electronics            174   \n",
       "\n",
       "   Quantity  purchase_amount paymt_method  Customer Age  Returns     cus_name  \\\n",
       "0         1             2427       PayPal            31      1.0  John Rivera   \n",
       "1         3             2448       PayPal            31      1.0  John Rivera   \n",
       "\n",
       "   Gender  \n",
       "0  Female  \n",
       "1  Female  "
      ]
     },
     "execution_count": 64,
     "metadata": {},
     "output_type": "execute_result"
    }
   ],
   "source": [
    "#Checking the dataset to confirm the rename changes has taken place.\n",
    "\n",
    "data.head(2)"
   ]
  },
  {
   "cell_type": "code",
   "execution_count": 65,
   "metadata": {},
   "outputs": [
    {
     "data": {
      "text/html": [
       "<div>\n",
       "<style scoped>\n",
       "    .dataframe tbody tr th:only-of-type {\n",
       "        vertical-align: middle;\n",
       "    }\n",
       "\n",
       "    .dataframe tbody tr th {\n",
       "        vertical-align: top;\n",
       "    }\n",
       "\n",
       "    .dataframe thead th {\n",
       "        text-align: right;\n",
       "    }\n",
       "</style>\n",
       "<table border=\"1\" class=\"dataframe\">\n",
       "  <thead>\n",
       "    <tr style=\"text-align: right;\">\n",
       "      <th></th>\n",
       "      <th>Customer ID</th>\n",
       "      <th>p_date</th>\n",
       "      <th>Year</th>\n",
       "      <th>Month</th>\n",
       "      <th>Pro_Cat</th>\n",
       "      <th>Product Price</th>\n",
       "      <th>Quantity</th>\n",
       "      <th>purchase_amount</th>\n",
       "      <th>paymt_method</th>\n",
       "      <th>Customer Age</th>\n",
       "      <th>Returns</th>\n",
       "      <th>cus_name</th>\n",
       "      <th>Gender</th>\n",
       "    </tr>\n",
       "  </thead>\n",
       "  <tbody>\n",
       "    <tr>\n",
       "      <th>0</th>\n",
       "      <td>44605</td>\n",
       "      <td>5/3/2023 21:30</td>\n",
       "      <td>2023</td>\n",
       "      <td>May</td>\n",
       "      <td>Home</td>\n",
       "      <td>177</td>\n",
       "      <td>1</td>\n",
       "      <td>2427</td>\n",
       "      <td>PayPal</td>\n",
       "      <td>31</td>\n",
       "      <td>1.0</td>\n",
       "      <td>John Rivera</td>\n",
       "      <td>Female</td>\n",
       "    </tr>\n",
       "    <tr>\n",
       "      <th>1</th>\n",
       "      <td>44605</td>\n",
       "      <td>5/16/2021 13:57</td>\n",
       "      <td>2021</td>\n",
       "      <td>May</td>\n",
       "      <td>Electronics</td>\n",
       "      <td>174</td>\n",
       "      <td>3</td>\n",
       "      <td>2448</td>\n",
       "      <td>PayPal</td>\n",
       "      <td>31</td>\n",
       "      <td>1.0</td>\n",
       "      <td>John Rivera</td>\n",
       "      <td>Female</td>\n",
       "    </tr>\n",
       "    <tr>\n",
       "      <th>2</th>\n",
       "      <td>44605</td>\n",
       "      <td>7/13/2020 6:16</td>\n",
       "      <td>2020</td>\n",
       "      <td>July</td>\n",
       "      <td>Books</td>\n",
       "      <td>413</td>\n",
       "      <td>1</td>\n",
       "      <td>2345</td>\n",
       "      <td>Credit Card</td>\n",
       "      <td>31</td>\n",
       "      <td>1.0</td>\n",
       "      <td>John Rivera</td>\n",
       "      <td>Female</td>\n",
       "    </tr>\n",
       "    <tr>\n",
       "      <th>3</th>\n",
       "      <td>44605</td>\n",
       "      <td>1/17/2023 13:14</td>\n",
       "      <td>2023</td>\n",
       "      <td>January</td>\n",
       "      <td>Electronics</td>\n",
       "      <td>396</td>\n",
       "      <td>3</td>\n",
       "      <td>937</td>\n",
       "      <td>Cash</td>\n",
       "      <td>31</td>\n",
       "      <td>0.0</td>\n",
       "      <td>John Rivera</td>\n",
       "      <td>Female</td>\n",
       "    </tr>\n",
       "    <tr>\n",
       "      <th>4</th>\n",
       "      <td>44605</td>\n",
       "      <td>5/1/2021 11:29</td>\n",
       "      <td>2021</td>\n",
       "      <td>May</td>\n",
       "      <td>Books</td>\n",
       "      <td>259</td>\n",
       "      <td>4</td>\n",
       "      <td>2598</td>\n",
       "      <td>PayPal</td>\n",
       "      <td>31</td>\n",
       "      <td>1.0</td>\n",
       "      <td>John Rivera</td>\n",
       "      <td>Female</td>\n",
       "    </tr>\n",
       "    <tr>\n",
       "      <th>...</th>\n",
       "      <td>...</td>\n",
       "      <td>...</td>\n",
       "      <td>...</td>\n",
       "      <td>...</td>\n",
       "      <td>...</td>\n",
       "      <td>...</td>\n",
       "      <td>...</td>\n",
       "      <td>...</td>\n",
       "      <td>...</td>\n",
       "      <td>...</td>\n",
       "      <td>...</td>\n",
       "      <td>...</td>\n",
       "      <td>...</td>\n",
       "    </tr>\n",
       "    <tr>\n",
       "      <th>249995</th>\n",
       "      <td>33807</td>\n",
       "      <td>1/24/2023 12:32</td>\n",
       "      <td>2023</td>\n",
       "      <td>January</td>\n",
       "      <td>Home</td>\n",
       "      <td>436</td>\n",
       "      <td>1</td>\n",
       "      <td>3664</td>\n",
       "      <td>Cash</td>\n",
       "      <td>63</td>\n",
       "      <td>0.0</td>\n",
       "      <td>Gabriel Williams</td>\n",
       "      <td>Male</td>\n",
       "    </tr>\n",
       "    <tr>\n",
       "      <th>249996</th>\n",
       "      <td>20455</td>\n",
       "      <td>6/4/2021 5:45</td>\n",
       "      <td>2021</td>\n",
       "      <td>June</td>\n",
       "      <td>Electronics</td>\n",
       "      <td>233</td>\n",
       "      <td>1</td>\n",
       "      <td>4374</td>\n",
       "      <td>Credit Card</td>\n",
       "      <td>66</td>\n",
       "      <td>1.0</td>\n",
       "      <td>Barry Foster</td>\n",
       "      <td>Female</td>\n",
       "    </tr>\n",
       "    <tr>\n",
       "      <th>249997</th>\n",
       "      <td>28055</td>\n",
       "      <td>11/10/2022 17:11</td>\n",
       "      <td>2022</td>\n",
       "      <td>November</td>\n",
       "      <td>Electronics</td>\n",
       "      <td>441</td>\n",
       "      <td>5</td>\n",
       "      <td>5296</td>\n",
       "      <td>Cash</td>\n",
       "      <td>63</td>\n",
       "      <td>0.0</td>\n",
       "      <td>Lisa Johnson</td>\n",
       "      <td>Female</td>\n",
       "    </tr>\n",
       "    <tr>\n",
       "      <th>249998</th>\n",
       "      <td>15023</td>\n",
       "      <td>6/27/2021 14:42</td>\n",
       "      <td>2021</td>\n",
       "      <td>June</td>\n",
       "      <td>Electronics</td>\n",
       "      <td>44</td>\n",
       "      <td>2</td>\n",
       "      <td>2517</td>\n",
       "      <td>Cash</td>\n",
       "      <td>64</td>\n",
       "      <td>1.0</td>\n",
       "      <td>Melissa Fernandez</td>\n",
       "      <td>Male</td>\n",
       "    </tr>\n",
       "    <tr>\n",
       "      <th>249999</th>\n",
       "      <td>4148</td>\n",
       "      <td>9/7/2020 5:12</td>\n",
       "      <td>2020</td>\n",
       "      <td>September</td>\n",
       "      <td>Home</td>\n",
       "      <td>307</td>\n",
       "      <td>5</td>\n",
       "      <td>3634</td>\n",
       "      <td>Cash</td>\n",
       "      <td>32</td>\n",
       "      <td>0.0</td>\n",
       "      <td>Angela Norton</td>\n",
       "      <td>Male</td>\n",
       "    </tr>\n",
       "  </tbody>\n",
       "</table>\n",
       "<p>250000 rows × 13 columns</p>\n",
       "</div>"
      ],
      "text/plain": [
       "        Customer ID            p_date  Year      Month      Pro_Cat  \\\n",
       "0             44605    5/3/2023 21:30  2023        May         Home   \n",
       "1             44605   5/16/2021 13:57  2021        May  Electronics   \n",
       "2             44605    7/13/2020 6:16  2020       July        Books   \n",
       "3             44605   1/17/2023 13:14  2023    January  Electronics   \n",
       "4             44605    5/1/2021 11:29  2021        May        Books   \n",
       "...             ...               ...   ...        ...          ...   \n",
       "249995        33807   1/24/2023 12:32  2023    January         Home   \n",
       "249996        20455     6/4/2021 5:45  2021       June  Electronics   \n",
       "249997        28055  11/10/2022 17:11  2022   November  Electronics   \n",
       "249998        15023   6/27/2021 14:42  2021       June  Electronics   \n",
       "249999         4148     9/7/2020 5:12  2020  September         Home   \n",
       "\n",
       "        Product Price  Quantity  purchase_amount paymt_method  Customer Age  \\\n",
       "0                 177         1             2427       PayPal            31   \n",
       "1                 174         3             2448       PayPal            31   \n",
       "2                 413         1             2345  Credit Card            31   \n",
       "3                 396         3              937         Cash            31   \n",
       "4                 259         4             2598       PayPal            31   \n",
       "...               ...       ...              ...          ...           ...   \n",
       "249995            436         1             3664         Cash            63   \n",
       "249996            233         1             4374  Credit Card            66   \n",
       "249997            441         5             5296         Cash            63   \n",
       "249998             44         2             2517         Cash            64   \n",
       "249999            307         5             3634         Cash            32   \n",
       "\n",
       "        Returns           cus_name  Gender  \n",
       "0           1.0        John Rivera  Female  \n",
       "1           1.0        John Rivera  Female  \n",
       "2           1.0        John Rivera  Female  \n",
       "3           0.0        John Rivera  Female  \n",
       "4           1.0        John Rivera  Female  \n",
       "...         ...                ...     ...  \n",
       "249995      0.0   Gabriel Williams    Male  \n",
       "249996      1.0       Barry Foster  Female  \n",
       "249997      0.0       Lisa Johnson  Female  \n",
       "249998      1.0  Melissa Fernandez    Male  \n",
       "249999      0.0      Angela Norton    Male  \n",
       "\n",
       "[250000 rows x 13 columns]"
      ]
     },
     "execution_count": 65,
     "metadata": {},
     "output_type": "execute_result"
    }
   ],
   "source": [
    "h={'AgeCustomer Namecus_name':'Age',\n",
    "   'prod_Price': 'Pro_Cat',}\n",
    "data.rename(h,axis=1,inplace=True)\n",
    "data"
   ]
  },
  {
   "cell_type": "code",
   "execution_count": 66,
   "metadata": {},
   "outputs": [],
   "source": [
    "# The total sales values were not calculated so has to Creat additional column to accomodate total sales using the Product price column multiply by number of quantity\n",
    "\n",
    "data['Total_sales']= data['Product Price'] * data['Quantity']"
   ]
  },
  {
   "cell_type": "code",
   "execution_count": 67,
   "metadata": {},
   "outputs": [
    {
     "data": {
      "text/html": [
       "<div>\n",
       "<style scoped>\n",
       "    .dataframe tbody tr th:only-of-type {\n",
       "        vertical-align: middle;\n",
       "    }\n",
       "\n",
       "    .dataframe tbody tr th {\n",
       "        vertical-align: top;\n",
       "    }\n",
       "\n",
       "    .dataframe thead th {\n",
       "        text-align: right;\n",
       "    }\n",
       "</style>\n",
       "<table border=\"1\" class=\"dataframe\">\n",
       "  <thead>\n",
       "    <tr style=\"text-align: right;\">\n",
       "      <th></th>\n",
       "      <th>Customer ID</th>\n",
       "      <th>p_date</th>\n",
       "      <th>Year</th>\n",
       "      <th>Month</th>\n",
       "      <th>Pro_Cat</th>\n",
       "      <th>Product Price</th>\n",
       "      <th>Quantity</th>\n",
       "      <th>purchase_amount</th>\n",
       "      <th>paymt_method</th>\n",
       "      <th>Customer Age</th>\n",
       "      <th>Returns</th>\n",
       "      <th>cus_name</th>\n",
       "      <th>Gender</th>\n",
       "      <th>Total_sales</th>\n",
       "    </tr>\n",
       "  </thead>\n",
       "  <tbody>\n",
       "    <tr>\n",
       "      <th>0</th>\n",
       "      <td>44605</td>\n",
       "      <td>5/3/2023 21:30</td>\n",
       "      <td>2023</td>\n",
       "      <td>May</td>\n",
       "      <td>Home</td>\n",
       "      <td>177</td>\n",
       "      <td>1</td>\n",
       "      <td>2427</td>\n",
       "      <td>PayPal</td>\n",
       "      <td>31</td>\n",
       "      <td>1.0</td>\n",
       "      <td>John Rivera</td>\n",
       "      <td>Female</td>\n",
       "      <td>177</td>\n",
       "    </tr>\n",
       "    <tr>\n",
       "      <th>1</th>\n",
       "      <td>44605</td>\n",
       "      <td>5/16/2021 13:57</td>\n",
       "      <td>2021</td>\n",
       "      <td>May</td>\n",
       "      <td>Electronics</td>\n",
       "      <td>174</td>\n",
       "      <td>3</td>\n",
       "      <td>2448</td>\n",
       "      <td>PayPal</td>\n",
       "      <td>31</td>\n",
       "      <td>1.0</td>\n",
       "      <td>John Rivera</td>\n",
       "      <td>Female</td>\n",
       "      <td>522</td>\n",
       "    </tr>\n",
       "  </tbody>\n",
       "</table>\n",
       "</div>"
      ],
      "text/plain": [
       "   Customer ID           p_date  Year Month      Pro_Cat  Product Price  \\\n",
       "0        44605   5/3/2023 21:30  2023   May         Home            177   \n",
       "1        44605  5/16/2021 13:57  2021   May  Electronics            174   \n",
       "\n",
       "   Quantity  purchase_amount paymt_method  Customer Age  Returns     cus_name  \\\n",
       "0         1             2427       PayPal            31      1.0  John Rivera   \n",
       "1         3             2448       PayPal            31      1.0  John Rivera   \n",
       "\n",
       "   Gender  Total_sales  \n",
       "0  Female          177  \n",
       "1  Female          522  "
      ]
     },
     "execution_count": 67,
     "metadata": {},
     "output_type": "execute_result"
    }
   ],
   "source": [
    "# Checking the data head to ensure the changes has been created\n",
    "\n",
    "data.head(2)"
   ]
  },
  {
   "cell_type": "code",
   "execution_count": 68,
   "metadata": {},
   "outputs": [
    {
     "data": {
      "text/plain": [
       "Month\n",
       "April        4243816\n",
       "August       4527160\n",
       "December     4334115\n",
       "February     4108909\n",
       "January      4327930\n",
       "July         4444778\n",
       "June         4264438\n",
       "March        4377942\n",
       "May          4395282\n",
       "November     4241670\n",
       "October      4433953\n",
       "September    4231220\n",
       "Name: Total_sales, dtype: int64"
      ]
     },
     "execution_count": 68,
     "metadata": {},
     "output_type": "execute_result"
    }
   ],
   "source": [
    "#Total sales by month in 2020\n",
    "\n",
    "year_2020=data.groupby('Year').get_group(2020)\n",
    "year_2020.groupby('Month')['Total_sales'].sum()"
   ]
  },
  {
   "cell_type": "code",
   "execution_count": 69,
   "metadata": {},
   "outputs": [
    {
     "data": {
      "text/plain": [
       "<AxesSubplot: xlabel='Month'>"
      ]
     },
     "execution_count": 69,
     "metadata": {},
     "output_type": "execute_result"
    },
    {
     "data": {
      "image/png": "[encoded data removed]",
      "text/plain": [
       "<Figure size 600x400 with 1 Axes>"
      ]
     },
     "metadata": {},
     "output_type": "display_data"
    }
   ],
   "source": [
    "#Graphical representation of total sales trend in 2020 year\n",
    "\n",
    "year_2020=data.groupby('Year').get_group(2020)\n",
    "year_2020.groupby('Month')['Total_sales'].sum().plot(kind='line',figsize=(6,4))"
   ]
  },
  {
   "cell_type": "code",
   "execution_count": 70,
   "metadata": {},
   "outputs": [
    {
     "data": {
      "text/plain": [
       "Month\n",
       "April        4231634\n",
       "August       4501859\n",
       "December     4464953\n",
       "February     4020191\n",
       "January      4269385\n",
       "July         4374904\n",
       "June         4270987\n",
       "March        4315246\n",
       "May          4459474\n",
       "November     4153361\n",
       "October      4289552\n",
       "September    4243240\n",
       "Name: Total_sales, dtype: int64"
      ]
     },
     "execution_count": 70,
     "metadata": {},
     "output_type": "execute_result"
    }
   ],
   "source": [
    "#Total sales by month in 2021\n",
    "\n",
    "year_2021=data.groupby('Year').get_group(2021)\n",
    "year_2021.groupby('Month')['Total_sales'].sum()"
   ]
  },
  {
   "cell_type": "code",
   "execution_count": 71,
   "metadata": {},
   "outputs": [
    {
     "data": {
      "text/plain": [
       "<AxesSubplot: xlabel='Month'>"
      ]
     },
     "execution_count": 71,
     "metadata": {},
     "output_type": "execute_result"
    },
    {
     "data": {
      "image/png": "[encoded data removed]",
      "text/plain": [
       "<Figure size 600x400 with 1 Axes>"
      ]
     },
     "metadata": {},
     "output_type": "display_data"
    }
   ],
   "source": [
    "#Graphical represetation of sales trend in 2021 year\n",
    "year_2021=data.groupby('Year').get_group(2021)\n",
    "year_2021.groupby('Month')['Total_sales'].sum().plot(kind='line',figsize=(6,4))"
   ]
  },
  {
   "cell_type": "code",
   "execution_count": 72,
   "metadata": {},
   "outputs": [
    {
     "data": {
      "text/plain": [
       "Month\n",
       "April        4405934\n",
       "August       4306440\n",
       "December     4384754\n",
       "February     3932018\n",
       "January      4366436\n",
       "July         4542030\n",
       "June         4234254\n",
       "March        4425448\n",
       "May          4367214\n",
       "November     4335945\n",
       "October      4271126\n",
       "September    4203367\n",
       "Name: Total_sales, dtype: int64"
      ]
     },
     "execution_count": 72,
     "metadata": {},
     "output_type": "execute_result"
    }
   ],
   "source": [
    "#Total sales by month in 2022\n",
    "\n",
    "year_2022=data.groupby('Year').get_group(2022)\n",
    "year_2022.groupby('Month')['Total_sales'].sum()"
   ]
  },
  {
   "cell_type": "code",
   "execution_count": 73,
   "metadata": {},
   "outputs": [
    {
     "data": {
      "text/plain": [
       "<AxesSubplot: xlabel='Month'>"
      ]
     },
     "execution_count": 73,
     "metadata": {},
     "output_type": "execute_result"
    },
    {
     "data": {
      "image/png": "[encoded data removed]",
      "text/plain": [
       "<Figure size 600x400 with 1 Axes>"
      ]
     },
     "metadata": {},
     "output_type": "display_data"
    }
   ],
   "source": [
    "#Graphical represetation of sales trend in 2022 year\n",
    "\n",
    "year_2022=data.groupby('Year').get_group(2022)\n",
    "year_2022.groupby('Month')['Total_sales'].sum().plot(kind='line',figsize=(6,4))"
   ]
  },
  {
   "cell_type": "code",
   "execution_count": 74,
   "metadata": {},
   "outputs": [
    {
     "data": {
      "text/plain": [
       "Month\n",
       "April        4195885\n",
       "August       4443714\n",
       "February     3906545\n",
       "January      4360942\n",
       "July         4287025\n",
       "June         4195255\n",
       "March        4463750\n",
       "May          4515550\n",
       "September    1819034\n",
       "Name: Total_sales, dtype: int64"
      ]
     },
     "execution_count": 74,
     "metadata": {},
     "output_type": "execute_result"
    }
   ],
   "source": [
    "#Total sales by month in 2023\n",
    "\n",
    "year_2023=data.groupby('Year').get_group(2023)\n",
    "year_2023.groupby('Month')['Total_sales'].sum()"
   ]
  },
  {
   "cell_type": "code",
   "execution_count": 75,
   "metadata": {},
   "outputs": [
    {
     "data": {
      "text/plain": [
       "<AxesSubplot: xlabel='Month'>"
      ]
     },
     "execution_count": 75,
     "metadata": {},
     "output_type": "execute_result"
    },
    {
     "data": {
      "image/png": "[encoded data removed]",
      "text/plain": [
       "<Figure size 600x400 with 1 Axes>"
      ]
     },
     "metadata": {},
     "output_type": "display_data"
    }
   ],
   "source": [
    "#Graphical represetation of sales trend in 2023 year\n",
    "\n",
    "year_2023=data.groupby('Year').get_group(2023)\n",
    "year_2023.groupby('Month')['Total_sales'].sum().plot(kind='line',figsize=(6,4))"
   ]
  },
  {
   "cell_type": "code",
   "execution_count": 76,
   "metadata": {},
   "outputs": [
    {
     "data": {
      "text/plain": [
       "paymt_method\n",
       "Cash           63427722\n",
       "Credit Card    63901255\n",
       "PayPal         64159688\n",
       "Name: Total_sales, dtype: int64"
      ]
     },
     "execution_count": 76,
     "metadata": {},
     "output_type": "execute_result"
    }
   ],
   "source": [
    "#the most used payment method\n",
    "\n",
    "\n",
    "data.head(2)\n",
    "data.groupby('paymt_method')['Total_sales'].sum()"
   ]
  },
  {
   "cell_type": "code",
   "execution_count": 77,
   "metadata": {},
   "outputs": [
    {
     "data": {
      "text/plain": [
       "<AxesSubplot: xlabel='Year'>"
      ]
     },
     "execution_count": 77,
     "metadata": {},
     "output_type": "execute_result"
    },
    {
     "data": {
      "image/png": "[encoded data removed]",
      "text/plain": [
       "<Figure size 800x600 with 1 Axes>"
      ]
     },
     "metadata": {},
     "output_type": "display_data"
    }
   ],
   "source": [
    "# The total quantity sold per year\n",
    "\n",
    "\n",
    "sales_by_year= data.groupby('Year')['Quantity'].sum()\n",
    "sales_by_year.plot(kind='bar',figsize=(8,6))"
   ]
  },
  {
   "cell_type": "code",
   "execution_count": 78,
   "metadata": {},
   "outputs": [
    {
     "data": {
      "text/html": [
       "<div>\n",
       "<style scoped>\n",
       "    .dataframe tbody tr th:only-of-type {\n",
       "        vertical-align: middle;\n",
       "    }\n",
       "\n",
       "    .dataframe tbody tr th {\n",
       "        vertical-align: top;\n",
       "    }\n",
       "\n",
       "    .dataframe thead th {\n",
       "        text-align: right;\n",
       "    }\n",
       "</style>\n",
       "<table border=\"1\" class=\"dataframe\">\n",
       "  <thead>\n",
       "    <tr style=\"text-align: right;\">\n",
       "      <th></th>\n",
       "      <th>Customer ID</th>\n",
       "      <th>p_date</th>\n",
       "      <th>Year</th>\n",
       "      <th>Month</th>\n",
       "      <th>Pro_Cat</th>\n",
       "      <th>Product Price</th>\n",
       "      <th>Quantity</th>\n",
       "      <th>purchase_amount</th>\n",
       "      <th>paymt_method</th>\n",
       "      <th>Customer Age</th>\n",
       "      <th>Returns</th>\n",
       "      <th>cus_name</th>\n",
       "      <th>Gender</th>\n",
       "      <th>Total_sales</th>\n",
       "    </tr>\n",
       "  </thead>\n",
       "  <tbody>\n",
       "    <tr>\n",
       "      <th>0</th>\n",
       "      <td>44605</td>\n",
       "      <td>5/3/2023 21:30</td>\n",
       "      <td>2023</td>\n",
       "      <td>May</td>\n",
       "      <td>Home</td>\n",
       "      <td>177</td>\n",
       "      <td>1</td>\n",
       "      <td>2427</td>\n",
       "      <td>PayPal</td>\n",
       "      <td>31</td>\n",
       "      <td>1.0</td>\n",
       "      <td>John Rivera</td>\n",
       "      <td>Female</td>\n",
       "      <td>177</td>\n",
       "    </tr>\n",
       "    <tr>\n",
       "      <th>1</th>\n",
       "      <td>44605</td>\n",
       "      <td>5/16/2021 13:57</td>\n",
       "      <td>2021</td>\n",
       "      <td>May</td>\n",
       "      <td>Electronics</td>\n",
       "      <td>174</td>\n",
       "      <td>3</td>\n",
       "      <td>2448</td>\n",
       "      <td>PayPal</td>\n",
       "      <td>31</td>\n",
       "      <td>1.0</td>\n",
       "      <td>John Rivera</td>\n",
       "      <td>Female</td>\n",
       "      <td>522</td>\n",
       "    </tr>\n",
       "  </tbody>\n",
       "</table>\n",
       "</div>"
      ],
      "text/plain": [
       "   Customer ID           p_date  Year Month      Pro_Cat  Product Price  \\\n",
       "0        44605   5/3/2023 21:30  2023   May         Home            177   \n",
       "1        44605  5/16/2021 13:57  2021   May  Electronics            174   \n",
       "\n",
       "   Quantity  purchase_amount paymt_method  Customer Age  Returns     cus_name  \\\n",
       "0         1             2427       PayPal            31      1.0  John Rivera   \n",
       "1         3             2448       PayPal            31      1.0  John Rivera   \n",
       "\n",
       "   Gender  Total_sales  \n",
       "0  Female          177  \n",
       "1  Female          522  "
      ]
     },
     "execution_count": 78,
     "metadata": {},
     "output_type": "execute_result"
    }
   ],
   "source": [
    "data.head(2)"
   ]
  },
  {
   "cell_type": "code",
   "execution_count": 79,
   "metadata": {},
   "outputs": [
    {
     "data": {
      "text/html": [
       "<div>\n",
       "<style scoped>\n",
       "    .dataframe tbody tr th:only-of-type {\n",
       "        vertical-align: middle;\n",
       "    }\n",
       "\n",
       "    .dataframe tbody tr th {\n",
       "        vertical-align: top;\n",
       "    }\n",
       "\n",
       "    .dataframe thead th {\n",
       "        text-align: right;\n",
       "    }\n",
       "</style>\n",
       "<table border=\"1\" class=\"dataframe\">\n",
       "  <thead>\n",
       "    <tr style=\"text-align: right;\">\n",
       "      <th></th>\n",
       "      <th>Year</th>\n",
       "      <th>Gender</th>\n",
       "    </tr>\n",
       "  </thead>\n",
       "  <tbody>\n",
       "    <tr>\n",
       "      <th>0</th>\n",
       "      <td>2020</td>\n",
       "      <td>8517</td>\n",
       "    </tr>\n",
       "    <tr>\n",
       "      <th>1</th>\n",
       "      <td>2021</td>\n",
       "      <td>8391</td>\n",
       "    </tr>\n",
       "    <tr>\n",
       "      <th>2</th>\n",
       "      <td>2022</td>\n",
       "      <td>8358</td>\n",
       "    </tr>\n",
       "    <tr>\n",
       "      <th>3</th>\n",
       "      <td>2023</td>\n",
       "      <td>5839</td>\n",
       "    </tr>\n",
       "  </tbody>\n",
       "</table>\n",
       "</div>"
      ],
      "text/plain": [
       "   Year  Gender\n",
       "0  2020    8517\n",
       "1  2021    8391\n",
       "2  2022    8358\n",
       "3  2023    5839"
      ]
     },
     "execution_count": 79,
     "metadata": {},
     "output_type": "execute_result"
    }
   ],
   "source": [
    "#The total product bought by female customer in home category by year\n",
    "\n",
    "Home_Product_by_female_customer = data[(data.Pro_Cat=='Home')&(data.Gender=='Female')][['Year','Gender']]\n",
    "Home_Product_by_female_customer = Home_Product_by_female_customer.groupby('Year').count().reset_index()\n",
    "Home_Product_by_female_customer\n",
    "\n"
   ]
  },
  {
   "cell_type": "code",
   "execution_count": 80,
   "metadata": {},
   "outputs": [
    {
     "data": {
      "text/html": [
       "<div>\n",
       "<style scoped>\n",
       "    .dataframe tbody tr th:only-of-type {\n",
       "        vertical-align: middle;\n",
       "    }\n",
       "\n",
       "    .dataframe tbody tr th {\n",
       "        vertical-align: top;\n",
       "    }\n",
       "\n",
       "    .dataframe thead th {\n",
       "        text-align: right;\n",
       "    }\n",
       "</style>\n",
       "<table border=\"1\" class=\"dataframe\">\n",
       "  <thead>\n",
       "    <tr style=\"text-align: right;\">\n",
       "      <th></th>\n",
       "      <th>Year</th>\n",
       "      <th>Gender</th>\n",
       "    </tr>\n",
       "  </thead>\n",
       "  <tbody>\n",
       "    <tr>\n",
       "      <th>0</th>\n",
       "      <td>2020</td>\n",
       "      <td>8421</td>\n",
       "    </tr>\n",
       "    <tr>\n",
       "      <th>1</th>\n",
       "      <td>2021</td>\n",
       "      <td>8436</td>\n",
       "    </tr>\n",
       "    <tr>\n",
       "      <th>2</th>\n",
       "      <td>2022</td>\n",
       "      <td>8517</td>\n",
       "    </tr>\n",
       "    <tr>\n",
       "      <th>3</th>\n",
       "      <td>2023</td>\n",
       "      <td>6063</td>\n",
       "    </tr>\n",
       "  </tbody>\n",
       "</table>\n",
       "</div>"
      ],
      "text/plain": [
       "   Year  Gender\n",
       "0  2020    8421\n",
       "1  2021    8436\n",
       "2  2022    8517\n",
       "3  2023    6063"
      ]
     },
     "execution_count": 80,
     "metadata": {},
     "output_type": "execute_result"
    }
   ],
   "source": [
    "#The total product bought by male customer in home category by year\n",
    "\n",
    "Home_Product_by_male_customer = data[(data.Pro_Cat=='Home')&(data.Gender=='Male')][['Year','Gender']]\n",
    "Home_Product_by_male_customer = Home_Product_by_male_customer.groupby('Year').count().reset_index()\n",
    "Home_Product_by_male_customer"
   ]
  },
  {
   "cell_type": "code",
   "execution_count": 81,
   "metadata": {},
   "outputs": [
    {
     "data": {
      "text/html": [
       "<div>\n",
       "<style scoped>\n",
       "    .dataframe tbody tr th:only-of-type {\n",
       "        vertical-align: middle;\n",
       "    }\n",
       "\n",
       "    .dataframe tbody tr th {\n",
       "        vertical-align: top;\n",
       "    }\n",
       "\n",
       "    .dataframe thead th {\n",
       "        text-align: right;\n",
       "    }\n",
       "</style>\n",
       "<table border=\"1\" class=\"dataframe\">\n",
       "  <thead>\n",
       "    <tr style=\"text-align: right;\">\n",
       "      <th></th>\n",
       "      <th>Year</th>\n",
       "      <th>Gender</th>\n",
       "    </tr>\n",
       "  </thead>\n",
       "  <tbody>\n",
       "    <tr>\n",
       "      <th>0</th>\n",
       "      <td>2020</td>\n",
       "      <td>8521</td>\n",
       "    </tr>\n",
       "    <tr>\n",
       "      <th>1</th>\n",
       "      <td>2021</td>\n",
       "      <td>8431</td>\n",
       "    </tr>\n",
       "    <tr>\n",
       "      <th>2</th>\n",
       "      <td>2022</td>\n",
       "      <td>8402</td>\n",
       "    </tr>\n",
       "    <tr>\n",
       "      <th>3</th>\n",
       "      <td>2023</td>\n",
       "      <td>5980</td>\n",
       "    </tr>\n",
       "  </tbody>\n",
       "</table>\n",
       "</div>"
      ],
      "text/plain": [
       "   Year  Gender\n",
       "0  2020    8521\n",
       "1  2021    8431\n",
       "2  2022    8402\n",
       "3  2023    5980"
      ]
     },
     "execution_count": 81,
     "metadata": {},
     "output_type": "execute_result"
    }
   ],
   "source": [
    "#The total product bought by male customer in Electronics category by year\n",
    "\n",
    "Electronics_Product_by_male_customer = data[(data.Pro_Cat=='Electronics')&(data.Gender=='Male')][['Year','Gender']]\n",
    "Electronics_Product_by_male_customer = Electronics_Product_by_male_customer.groupby('Year').count().reset_index()\n",
    "Electronics_Product_by_male_customer"
   ]
  },
  {
   "cell_type": "code",
   "execution_count": 82,
   "metadata": {},
   "outputs": [
    {
     "data": {
      "text/html": [
       "<div>\n",
       "<style scoped>\n",
       "    .dataframe tbody tr th:only-of-type {\n",
       "        vertical-align: middle;\n",
       "    }\n",
       "\n",
       "    .dataframe tbody tr th {\n",
       "        vertical-align: top;\n",
       "    }\n",
       "\n",
       "    .dataframe thead th {\n",
       "        text-align: right;\n",
       "    }\n",
       "</style>\n",
       "<table border=\"1\" class=\"dataframe\">\n",
       "  <thead>\n",
       "    <tr style=\"text-align: right;\">\n",
       "      <th></th>\n",
       "      <th>Year</th>\n",
       "      <th>Gender</th>\n",
       "    </tr>\n",
       "  </thead>\n",
       "  <tbody>\n",
       "    <tr>\n",
       "      <th>0</th>\n",
       "      <td>2020</td>\n",
       "      <td>8429</td>\n",
       "    </tr>\n",
       "    <tr>\n",
       "      <th>1</th>\n",
       "      <td>2021</td>\n",
       "      <td>8562</td>\n",
       "    </tr>\n",
       "    <tr>\n",
       "      <th>2</th>\n",
       "      <td>2022</td>\n",
       "      <td>8508</td>\n",
       "    </tr>\n",
       "    <tr>\n",
       "      <th>3</th>\n",
       "      <td>2023</td>\n",
       "      <td>5797</td>\n",
       "    </tr>\n",
       "  </tbody>\n",
       "</table>\n",
       "</div>"
      ],
      "text/plain": [
       "   Year  Gender\n",
       "0  2020    8429\n",
       "1  2021    8562\n",
       "2  2022    8508\n",
       "3  2023    5797"
      ]
     },
     "execution_count": 82,
     "metadata": {},
     "output_type": "execute_result"
    }
   ],
   "source": [
    "#The total product bought by female customer in Electronics category by year\n",
    "\n",
    "Electronics_Product_by_female_customer = data[(data.Pro_Cat=='Electronics')&(data.Gender=='Female')][['Year','Gender']]\n",
    "Electronics_Product_by_female_customer= Electronics_Product_by_female_customer.groupby('Year').count().reset_index()\n",
    "Electronics_Product_by_female_customer"
   ]
  },
  {
   "cell_type": "code",
   "execution_count": 83,
   "metadata": {},
   "outputs": [
    {
     "data": {
      "text/plain": [
       "([<matplotlib.patches.Wedge at 0x28dc8eaaf10>,\n",
       "  <matplotlib.patches.Wedge at 0x28dc8ec0110>],\n",
       " [Text(-0.009344324826690146, 1.09996031000829, 'Male'),\n",
       "  Text(0.009344427812406885, -1.0999603091334063, 'Female')],\n",
       " [Text(-0.005096904450921897, 0.5999783509136126, '50.3%'),\n",
       "  Text(0.00509696062494921, -0.5999783504364034, '49.7%')])"
      ]
     },
     "execution_count": 83,
     "metadata": {},
     "output_type": "execute_result"
    },
    {
     "data": {
      "image/png": "[encoded data removed]",
      "text/plain": [
       "<Figure size 640x480 with 1 Axes>"
      ]
     },
     "metadata": {},
     "output_type": "display_data"
    }
   ],
   "source": [
    "#Graphical representation of male and female customer\n",
    "\n",
    "Customer=data.Gender.value_counts()\n",
    "plt.pie(Customer,labels=Customer.index,autopct='%1.1f%%')"
   ]
  },
  {
   "cell_type": "code",
   "execution_count": 84,
   "metadata": {},
   "outputs": [
    {
     "data": {
      "text/plain": [
       "Pro_Cat\n",
       "Books          186608\n",
       "Clothing       188688\n",
       "Electronics    187861\n",
       "Home           188077\n",
       "Name: Quantity, dtype: int64"
      ]
     },
     "execution_count": 84,
     "metadata": {},
     "output_type": "execute_result"
    }
   ],
   "source": [
    "# Quantity sold by category\n",
    "\n",
    "Category_sales=data.groupby('Pro_Cat')['Quantity'].sum()\n",
    "Category_sales"
   ]
  },
  {
   "cell_type": "code",
   "execution_count": 85,
   "metadata": {},
   "outputs": [
    {
     "data": {
      "text/plain": [
       "([<matplotlib.patches.Wedge at 0x28dd64f1010>,\n",
       "  <matplotlib.patches.Wedge at 0x28dd64e9850>,\n",
       "  <matplotlib.patches.Wedge at 0x28dd64e5b10>,\n",
       "  <matplotlib.patches.Wedge at 0x28dd64dde50>],\n",
       " [Text(0.7817125647851568, 0.7739027497412141, 'Books'),\n",
       "  Text(-0.7728527390932357, 0.7827506906263852, 'Clothing'),\n",
       "  Text(-0.7797324910311455, -0.7758977010085575, 'Electronics'),\n",
       "  Text(0.7769437304104732, -0.7786902078335506, 'Home')],\n",
       " [Text(0.4263886717009946, 0.42212877258611675, '24.8%'),\n",
       "  Text(-0.42155603950540127, 0.42695492215984643, '25.1%'),\n",
       "  Text(-0.4253086314715339, -0.4232169278228495, '25.0%'),\n",
       "  Text(0.4237874893148035, -0.42474011336375483, '25.0%')])"
      ]
     },
     "execution_count": 85,
     "metadata": {},
     "output_type": "execute_result"
    },
    {
     "data": {
      "image/png": "[encoded data removed]",
      "text/plain": [
       "<Figure size 640x480 with 1 Axes>"
      ]
     },
     "metadata": {},
     "output_type": "display_data"
    }
   ],
   "source": [
    "#Graphical representation of sales by category\n",
    "\n",
    "plt.pie(Category_sales,labels=Category_sales.index,autopct='%1.1f%%')"
   ]
  },
  {
   "cell_type": "code",
   "execution_count": 86,
   "metadata": {},
   "outputs": [
    {
     "data": {
      "text/plain": [
       "Pro_Cat\n",
       "Books          25406.0\n",
       "Clothing       25302.0\n",
       "Electronics    25448.0\n",
       "Home           25320.0\n",
       "Name: Returns, dtype: float64"
      ]
     },
     "execution_count": 86,
     "metadata": {},
     "output_type": "execute_result"
    }
   ],
   "source": [
    "#Total goods return in each product category\n",
    "\n",
    "data.groupby('Pro_Cat')['Returns'].sum()"
   ]
  },
  {
   "cell_type": "code",
   "execution_count": 87,
   "metadata": {},
   "outputs": [
    {
     "data": {
      "text/html": [
       "<div>\n",
       "<style scoped>\n",
       "    .dataframe tbody tr th:only-of-type {\n",
       "        vertical-align: middle;\n",
       "    }\n",
       "\n",
       "    .dataframe tbody tr th {\n",
       "        vertical-align: top;\n",
       "    }\n",
       "\n",
       "    .dataframe thead th {\n",
       "        text-align: right;\n",
       "    }\n",
       "</style>\n",
       "<table border=\"1\" class=\"dataframe\">\n",
       "  <thead>\n",
       "    <tr style=\"text-align: right;\">\n",
       "      <th></th>\n",
       "      <th>Customer ID</th>\n",
       "      <th>p_date</th>\n",
       "      <th>Year</th>\n",
       "      <th>Month</th>\n",
       "      <th>Pro_Cat</th>\n",
       "      <th>Product Price</th>\n",
       "      <th>Quantity</th>\n",
       "      <th>purchase_amount</th>\n",
       "      <th>paymt_method</th>\n",
       "      <th>Customer Age</th>\n",
       "      <th>Returns</th>\n",
       "      <th>cus_name</th>\n",
       "      <th>Gender</th>\n",
       "      <th>Total_sales</th>\n",
       "    </tr>\n",
       "  </thead>\n",
       "  <tbody>\n",
       "    <tr>\n",
       "      <th>231894</th>\n",
       "      <td>11789</td>\n",
       "      <td>1/1/2020 0:07</td>\n",
       "      <td>2020</td>\n",
       "      <td>January</td>\n",
       "      <td>Clothing</td>\n",
       "      <td>426</td>\n",
       "      <td>4</td>\n",
       "      <td>2046</td>\n",
       "      <td>Cash</td>\n",
       "      <td>45</td>\n",
       "      <td>1.0</td>\n",
       "      <td>Matthew Davis</td>\n",
       "      <td>Male</td>\n",
       "      <td>1704</td>\n",
       "    </tr>\n",
       "  </tbody>\n",
       "</table>\n",
       "</div>"
      ],
      "text/plain": [
       "        Customer ID         p_date  Year    Month   Pro_Cat  Product Price  \\\n",
       "231894        11789  1/1/2020 0:07  2020  January  Clothing            426   \n",
       "\n",
       "        Quantity  purchase_amount paymt_method  Customer Age  Returns  \\\n",
       "231894         4             2046         Cash            45      1.0   \n",
       "\n",
       "             cus_name Gender  Total_sales  \n",
       "231894  Matthew Davis   Male         1704  "
      ]
     },
     "execution_count": 87,
     "metadata": {},
     "output_type": "execute_result"
    }
   ],
   "source": [
    "#The first customer to make a purchase\n",
    "\n",
    "year_2020[year_2020['p_date']=='1/1/2020 0:07']\n"
   ]
  },
  {
   "cell_type": "code",
   "execution_count": 88,
   "metadata": {},
   "outputs": [
    {
     "data": {
      "text/html": [
       "<div>\n",
       "<style scoped>\n",
       "    .dataframe tbody tr th:only-of-type {\n",
       "        vertical-align: middle;\n",
       "    }\n",
       "\n",
       "    .dataframe tbody tr th {\n",
       "        vertical-align: top;\n",
       "    }\n",
       "\n",
       "    .dataframe thead th {\n",
       "        text-align: right;\n",
       "    }\n",
       "</style>\n",
       "<table border=\"1\" class=\"dataframe\">\n",
       "  <thead>\n",
       "    <tr style=\"text-align: right;\">\n",
       "      <th></th>\n",
       "      <th>Quantity</th>\n",
       "    </tr>\n",
       "    <tr>\n",
       "      <th>cus_name</th>\n",
       "      <th></th>\n",
       "    </tr>\n",
       "  </thead>\n",
       "  <tbody>\n",
       "    <tr>\n",
       "      <th>Michael Johnson</th>\n",
       "      <td>376</td>\n",
       "    </tr>\n",
       "    <tr>\n",
       "      <th>Michael Smith</th>\n",
       "      <td>348</td>\n",
       "    </tr>\n",
       "    <tr>\n",
       "      <th>Michael Brown</th>\n",
       "      <td>313</td>\n",
       "    </tr>\n",
       "    <tr>\n",
       "      <th>John Smith</th>\n",
       "      <td>292</td>\n",
       "    </tr>\n",
       "    <tr>\n",
       "      <th>Michael Jones</th>\n",
       "      <td>280</td>\n",
       "    </tr>\n",
       "    <tr>\n",
       "      <th>David Johnson</th>\n",
       "      <td>264</td>\n",
       "    </tr>\n",
       "    <tr>\n",
       "      <th>John Johnson</th>\n",
       "      <td>263</td>\n",
       "    </tr>\n",
       "    <tr>\n",
       "      <th>James Smith</th>\n",
       "      <td>260</td>\n",
       "    </tr>\n",
       "    <tr>\n",
       "      <th>Michael Williams</th>\n",
       "      <td>246</td>\n",
       "    </tr>\n",
       "    <tr>\n",
       "      <th>Steven Smith</th>\n",
       "      <td>244</td>\n",
       "    </tr>\n",
       "  </tbody>\n",
       "</table>\n",
       "</div>"
      ],
      "text/plain": [
       "                  Quantity\n",
       "cus_name                  \n",
       "Michael Johnson        376\n",
       "Michael Smith          348\n",
       "Michael Brown          313\n",
       "John Smith             292\n",
       "Michael Jones          280\n",
       "David Johnson          264\n",
       "John Johnson           263\n",
       "James Smith            260\n",
       "Michael Williams       246\n",
       "Steven Smith           244"
      ]
     },
     "execution_count": 88,
     "metadata": {},
     "output_type": "execute_result"
    }
   ],
   "source": [
    "#Top 10 customer with highest sales\n",
    "\n",
    "Top_10_customer = data[['cus_name','Quantity']].groupby('cus_name').sum().sort_values('Quantity',ascending=False).head(10)\n",
    "Top_10_customer\n",
    "\n"
   ]
  },
  {
   "cell_type": "code",
   "execution_count": 89,
   "metadata": {},
   "outputs": [
    {
     "data": {
      "text/plain": [
       "<AxesSubplot: xlabel='cus_name'>"
      ]
     },
     "execution_count": 89,
     "metadata": {},
     "output_type": "execute_result"
    },
    {
     "data": {
      "image/png": "[encoded data removed]",
      "text/plain": [
       "<Figure size 640x480 with 1 Axes>"
      ]
     },
     "metadata": {},
     "output_type": "display_data"
    }
   ],
   "source": [
    "#Graphical representation of top 10 customer\n",
    "\n",
    "Top_10_customer.plot(kind='bar')\n",
    "\n",
    "\n"
   ]
  },
  {
   "cell_type": "code",
   "execution_count": 92,
   "metadata": {},
   "outputs": [
    {
     "data": {
      "text/plain": [
       "39878"
      ]
     },
     "execution_count": 92,
     "metadata": {},
     "output_type": "execute_result"
    }
   ],
   "source": [
    "#Total number of the customer\n",
    "\n",
    "Total_number_of_customer = data.cus_name.nunique()\n",
    "Total_number_of_customer\n"
   ]
  }
 ],
 "metadata": {
  "kernelspec": {
   "display_name": "Python 3",
   "language": "python",
   "name": "python3"
  },
  "language_info": {
   "codemirror_mode": {
    "name": "ipython",
    "version": 3
   },
   "file_extension": ".py",
   "mimetype": "text/x-python",
   "name": "python",
   "nbconvert_exporter": "python",
   "pygments_lexer": "ipython3",
   "version": "3.11.1"
  },
  "orig_nbformat": 4
 },
 "nbformat": 4,
 "nbformat_minor": 2
}
